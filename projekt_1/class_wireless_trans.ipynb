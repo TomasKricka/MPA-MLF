{
  "cells": [
    {
      "cell_type": "markdown",
      "metadata": {
        "id": "view-in-github",
        "colab_type": "text"
      },
      "source": [
        "<a href=\"https://colab.research.google.com/github/TomasKricka/MPA-MLF/blob/main/projekt_1/class_wireless_trans.ipynb\" target=\"_parent\"><img src=\"https://colab.research.google.com/assets/colab-badge.svg\" alt=\"Open In Colab\"/></a>"
      ]
    },
    {
      "cell_type": "code",
      "execution_count": 1,
      "metadata": {
        "id": "ymSBGv2Fr2OX"
      },
      "outputs": [],
      "source": [
        "from keras.models import Sequential\n",
        "from keras.layers import Dense, Flatten\n",
        "from keras.optimizers import SGD, RMSprop, Adamax, Adagrad, Ftrl\n",
        "\n",
        "from keras.utils import to_categorical\n",
        "import matplotlib.pyplot as plt\n",
        "import matplotlib\n",
        "import numpy as np\n",
        "import pandas as pd\n",
        "\n",
        "from sklearn.neighbors import KNeighborsClassifier\n",
        "from sklearn.model_selection import train_test_split\n",
        "\n",
        "from keras.backend import clear_session\n",
        "\n",
        "font = {'weight' : 'bold',\n",
        "        'size'   : 12}\n",
        "\n",
        "matplotlib.rc('font', **font)"
      ]
    },
    {
      "cell_type": "code",
      "source": [
        "from google.colab import drive, files\n",
        "drive.mount('/content/drive')"
      ],
      "metadata": {
        "id": "jssg-nC2sZBx",
        "colab": {
          "base_uri": "https://localhost:8080/"
        },
        "outputId": "1c1cb9d9-d3db-4de3-e306-503984effdf6"
      },
      "execution_count": 2,
      "outputs": [
        {
          "output_type": "stream",
          "name": "stdout",
          "text": [
            "Mounted at /content/drive\n"
          ]
        }
      ]
    },
    {
      "cell_type": "code",
      "source": [
        "path_to_x_test = 'drive/MyDrive/MLF/projekt 1/x_test.csv' \n",
        "pd_x_test = pd.read_csv(path_to_x_test)\n",
        "\n",
        "path_to_x_train = 'drive/MyDrive/MLF/projekt 1/x_train.csv' \n",
        "pd_x_train = pd.read_csv(path_to_x_train)\n",
        "\n",
        "path_to_y_train = 'drive/MyDrive/MLF/projekt 1/y_train.csv' \n",
        "pd_y_train = pd.read_csv(path_to_y_train)\n",
        "\n",
        "clasess = 8"
      ],
      "metadata": {
        "id": "jajUKu25Y0zK"
      },
      "execution_count": 100,
      "outputs": []
    },
    {
      "cell_type": "code",
      "source": [
        "x_train = pd_x_train.drop(\"Unnamed: 0\", axis = 1)\n",
        "x_train = x_train.drop(\"m_power\", axis = 1)\n",
        "x_train = x_train.drop(\"Tosc\", axis = 1)\n",
        "x_train = x_train.drop(\"Tmix\", axis = 1)\n",
        "\n",
        "\n",
        "x_test = pd_x_test.drop(\"Unnamed: 0\", axis = 1)\n",
        "x_test = x_test.drop(\"m_power\", axis = 1)\n",
        "x_test = x_test.drop(\"Tosc\", axis = 1)\n",
        "x_test = x_test.drop(\"Tmix\", axis = 1)\n",
        "x_test_pred = x_test\n",
        "\n",
        "x_train, x_test, y_train, y_test = train_test_split(x_train,pd_y_train, test_size=0.2)\n",
        "\n",
        "y_train = y_train.drop(\"id\", axis = 1)\n",
        "y_test = y_test.drop(\"id\", axis = 1)"
      ],
      "metadata": {
        "id": "IuBg6koMKiTp"
      },
      "execution_count": 101,
      "outputs": []
    },
    {
      "cell_type": "markdown",
      "source": [
        "###Data preprocessing###"
      ],
      "metadata": {
        "id": "MJlDEkQB5NP8"
      }
    },
    {
      "cell_type": "code",
      "source": [
        "x_train_scaled = abs((x_train-x_train.min())/(x_train.max()-x_train.min()))\n",
        "\n",
        "y_train = y_train -1\n",
        "\n",
        "y_train_encoded = to_categorical(y_train, num_classes=clasess)"
      ],
      "metadata": {
        "id": "yxk7hjSU5TbR"
      },
      "execution_count": 102,
      "outputs": []
    },
    {
      "cell_type": "markdown",
      "source": [
        "###Model building###"
      ],
      "metadata": {
        "id": "Wj3_qzuv1Yku"
      }
    },
    {
      "cell_type": "code",
      "source": [
        "model = Sequential()\n",
        "model.add(Flatten(input_shape=(clasess, 1)))      \n",
        "model.add(Dense(128, activation='relu'))\n",
        "#model.add(Dense(256, activation='sigmoid'))\n",
        "model.add(Dense(clasess, activation='softmax'))\n",
        "\n",
        "model.summary()"
      ],
      "metadata": {
        "id": "E4FHWDq71chU",
        "colab": {
          "base_uri": "https://localhost:8080/"
        },
        "outputId": "e2b5a6d6-c8fb-4732-9066-508ab806de56"
      },
      "execution_count": 103,
      "outputs": [
        {
          "output_type": "stream",
          "name": "stdout",
          "text": [
            "Model: \"sequential_6\"\n",
            "_________________________________________________________________\n",
            " Layer (type)                Output Shape              Param #   \n",
            "=================================================================\n",
            " flatten_6 (Flatten)         (None, 8)                 0         \n",
            "                                                                 \n",
            " dense_12 (Dense)            (None, 128)               1152      \n",
            "                                                                 \n",
            " dense_13 (Dense)            (None, 8)                 1032      \n",
            "                                                                 \n",
            "=================================================================\n",
            "Total params: 2,184\n",
            "Trainable params: 2,184\n",
            "Non-trainable params: 0\n",
            "_________________________________________________________________\n"
          ]
        }
      ]
    },
    {
      "cell_type": "code",
      "source": [
        "optimizer = SGD(learning_rate = 0.2)\n",
        "model.compile(loss='categorical_crossentropy', optimizer=optimizer, metrics=['accuracy'])"
      ],
      "metadata": {
        "id": "3kYu8Yy-13pw"
      },
      "execution_count": 104,
      "outputs": []
    },
    {
      "cell_type": "markdown",
      "source": [
        "###Model trainnig###"
      ],
      "metadata": {
        "id": "D19kl_O-17Z1"
      }
    },
    {
      "cell_type": "code",
      "source": [
        "history = model.fit(x_train_scaled, y_train_encoded, epochs=20, batch_size=32, validation_split = 0.2)\n"
      ],
      "metadata": {
        "id": "etR2my9a2ESU",
        "colab": {
          "base_uri": "https://localhost:8080/"
        },
        "outputId": "bf0d0a52-2bdc-4fba-dd13-305933f66267"
      },
      "execution_count": 105,
      "outputs": [
        {
          "output_type": "stream",
          "name": "stdout",
          "text": [
            "Epoch 1/20\n",
            "308/308 [==============================] - 2s 4ms/step - loss: 0.8328 - accuracy: 0.8243 - val_loss: 0.3790 - val_accuracy: 0.9536\n",
            "Epoch 2/20\n",
            "308/308 [==============================] - 1s 3ms/step - loss: 0.2094 - accuracy: 0.9804 - val_loss: 0.1328 - val_accuracy: 0.9817\n",
            "Epoch 3/20\n",
            "308/308 [==============================] - 1s 3ms/step - loss: 0.1093 - accuracy: 0.9900 - val_loss: 0.1022 - val_accuracy: 0.9731\n",
            "Epoch 4/20\n",
            "308/308 [==============================] - 1s 3ms/step - loss: 0.0735 - accuracy: 0.9930 - val_loss: 0.0817 - val_accuracy: 0.9943\n",
            "Epoch 5/20\n",
            "308/308 [==============================] - 1s 4ms/step - loss: 0.0552 - accuracy: 0.9950 - val_loss: 0.0503 - val_accuracy: 0.9919\n",
            "Epoch 6/20\n",
            "308/308 [==============================] - 1s 4ms/step - loss: 0.0437 - accuracy: 0.9957 - val_loss: 0.0521 - val_accuracy: 0.9951\n",
            "Epoch 7/20\n",
            "308/308 [==============================] - 1s 4ms/step - loss: 0.0363 - accuracy: 0.9967 - val_loss: 0.0321 - val_accuracy: 0.9959\n",
            "Epoch 8/20\n",
            "308/308 [==============================] - 1s 4ms/step - loss: 0.0307 - accuracy: 0.9965 - val_loss: 0.0360 - val_accuracy: 0.9959\n",
            "Epoch 9/20\n",
            "308/308 [==============================] - 1s 4ms/step - loss: 0.0268 - accuracy: 0.9968 - val_loss: 0.0261 - val_accuracy: 0.9963\n",
            "Epoch 10/20\n",
            "308/308 [==============================] - 1s 4ms/step - loss: 0.0237 - accuracy: 0.9977 - val_loss: 0.0217 - val_accuracy: 0.9984\n",
            "Epoch 11/20\n",
            "308/308 [==============================] - 1s 5ms/step - loss: 0.0212 - accuracy: 0.9978 - val_loss: 0.0197 - val_accuracy: 0.9984\n",
            "Epoch 12/20\n",
            "308/308 [==============================] - 1s 4ms/step - loss: 0.0192 - accuracy: 0.9979 - val_loss: 0.0219 - val_accuracy: 0.9984\n",
            "Epoch 13/20\n",
            "308/308 [==============================] - 1s 3ms/step - loss: 0.0174 - accuracy: 0.9984 - val_loss: 0.0178 - val_accuracy: 0.9972\n",
            "Epoch 14/20\n",
            "308/308 [==============================] - 1s 4ms/step - loss: 0.0159 - accuracy: 0.9983 - val_loss: 0.0162 - val_accuracy: 0.9980\n",
            "Epoch 15/20\n",
            "308/308 [==============================] - 1s 3ms/step - loss: 0.0143 - accuracy: 0.9985 - val_loss: 0.0141 - val_accuracy: 0.9984\n",
            "Epoch 16/20\n",
            "308/308 [==============================] - 1s 3ms/step - loss: 0.0135 - accuracy: 0.9983 - val_loss: 0.0130 - val_accuracy: 0.9988\n",
            "Epoch 17/20\n",
            "308/308 [==============================] - 1s 3ms/step - loss: 0.0125 - accuracy: 0.9987 - val_loss: 0.0122 - val_accuracy: 0.9984\n",
            "Epoch 18/20\n",
            "308/308 [==============================] - 1s 3ms/step - loss: 0.0117 - accuracy: 0.9989 - val_loss: 0.0119 - val_accuracy: 0.9984\n",
            "Epoch 19/20\n",
            "308/308 [==============================] - 1s 3ms/step - loss: 0.0109 - accuracy: 0.9988 - val_loss: 0.0113 - val_accuracy: 0.9984\n",
            "Epoch 20/20\n",
            "308/308 [==============================] - 1s 3ms/step - loss: 0.0102 - accuracy: 0.9991 - val_loss: 0.0111 - val_accuracy: 0.9988\n"
          ]
        }
      ]
    },
    {
      "cell_type": "code",
      "source": [
        "x_test_t = abs((x_test-x_test.min())/(x_test.max()-x_test.min()))\n",
        "y_test = y_test -1\n",
        "y_test_encoded = to_categorical(y_test, num_classes=clasess)\n",
        "\n",
        "score = model.evaluate(x_test_t, y_test_encoded, verbose=0)\n",
        "print('Test loss:', score[0])\n",
        "print(f'Test accuracy: {score[1]*100} %')"
      ],
      "metadata": {
        "colab": {
          "base_uri": "https://localhost:8080/"
        },
        "id": "eBepk5ZMUVal",
        "outputId": "c8d8a131-9eed-4cbd-cdda-fc892c74cd1c"
      },
      "execution_count": 106,
      "outputs": [
        {
          "output_type": "stream",
          "name": "stdout",
          "text": [
            "Test loss: 2.78228759765625\n",
            "Test accuracy: 70.08463740348816 %\n"
          ]
        }
      ]
    },
    {
      "cell_type": "code",
      "source": [
        "pred_val = model.predict([x_test_pred])\n",
        "print(pred_val.shape)\n",
        "df = pd.DataFrame(pred_val)\n",
        "\n",
        "row_numb = df.shape[0]\n",
        "\n",
        "pred_numbs = np.argmax(pred_val, axis=1)\n",
        "pred_numbs_res = pred_numbs.reshape ((row_numb,1))\n",
        "print(row_numb)\n",
        "\n",
        "pred_numbs_res = pred_numbs_res + 1\n",
        "\n",
        "df = pd.DataFrame(pred_numbs_res)\n",
        "df.columns = [\"target\"]\n",
        "df.to_csv('filename.csv') \n",
        "files.download('filename.csv')\n",
        "\n",
        "print(pred_numbs_res)"
      ],
      "metadata": {
        "colab": {
          "base_uri": "https://localhost:8080/",
          "height": 200
        },
        "id": "clVqLdRwXhwG",
        "outputId": "ba267ee8-6351-49e3-9650-c39333d01493"
      },
      "execution_count": 107,
      "outputs": [
        {
          "output_type": "stream",
          "name": "stdout",
          "text": [
            "120/120 [==============================] - 0s 2ms/step\n",
            "(3840, 8)\n",
            "3840\n"
          ]
        },
        {
          "output_type": "display_data",
          "data": {
            "text/plain": [
              "<IPython.core.display.Javascript object>"
            ],
            "application/javascript": [
              "\n",
              "    async function download(id, filename, size) {\n",
              "      if (!google.colab.kernel.accessAllowed) {\n",
              "        return;\n",
              "      }\n",
              "      const div = document.createElement('div');\n",
              "      const label = document.createElement('label');\n",
              "      label.textContent = `Downloading \"${filename}\": `;\n",
              "      div.appendChild(label);\n",
              "      const progress = document.createElement('progress');\n",
              "      progress.max = size;\n",
              "      div.appendChild(progress);\n",
              "      document.body.appendChild(div);\n",
              "\n",
              "      const buffers = [];\n",
              "      let downloaded = 0;\n",
              "\n",
              "      const channel = await google.colab.kernel.comms.open(id);\n",
              "      // Send a message to notify the kernel that we're ready.\n",
              "      channel.send({})\n",
              "\n",
              "      for await (const message of channel.messages) {\n",
              "        // Send a message to notify the kernel that we're ready.\n",
              "        channel.send({})\n",
              "        if (message.buffers) {\n",
              "          for (const buffer of message.buffers) {\n",
              "            buffers.push(buffer);\n",
              "            downloaded += buffer.byteLength;\n",
              "            progress.value = downloaded;\n",
              "          }\n",
              "        }\n",
              "      }\n",
              "      const blob = new Blob(buffers, {type: 'application/binary'});\n",
              "      const a = document.createElement('a');\n",
              "      a.href = window.URL.createObjectURL(blob);\n",
              "      a.download = filename;\n",
              "      div.appendChild(a);\n",
              "      a.click();\n",
              "      div.remove();\n",
              "    }\n",
              "  "
            ]
          },
          "metadata": {}
        },
        {
          "output_type": "display_data",
          "data": {
            "text/plain": [
              "<IPython.core.display.Javascript object>"
            ],
            "application/javascript": [
              "download(\"download_75075dc1-9664-45ab-bf26-e5b52db6fbf9\", \"filename.csv\", 25778)"
            ]
          },
          "metadata": {}
        },
        {
          "output_type": "stream",
          "name": "stdout",
          "text": [
            "[[5]\n",
            " [7]\n",
            " [5]\n",
            " ...\n",
            " [7]\n",
            " [7]\n",
            " [7]]\n"
          ]
        }
      ]
    },
    {
      "cell_type": "code",
      "source": [
        "plt.figure()\n",
        "plt.plot(history.history['loss'], label=\"loss\")\n",
        "plt.plot(history.history['val_loss'], label=\"val_loss\")\n",
        "plt.legend(loc=\"upper right\")\n",
        "plt.xlabel('n epochs')\n",
        "plt.ylabel('val_loss, loss')\n",
        "plt.show()\n",
        "\n",
        "plt.figure()\n",
        "plt.plot(history.history['accuracy'], label=\"accuracy\")\n",
        "plt.plot(history.history['val_accuracy'], label=\"val_accuracy\")\n",
        "plt.legend(loc=\"lower right\")\n",
        "plt.xlabel('n epochs')\n",
        "plt.ylabel('val_accuracy, accuracy')\n",
        "plt.show()"
      ],
      "metadata": {
        "colab": {
          "base_uri": "https://localhost:8080/",
          "height": 553
        },
        "id": "iikVmmCKXYZH",
        "outputId": "f23d0280-6c52-41ac-ad05-397195e23922"
      },
      "execution_count": 108,
      "outputs": [
        {
          "output_type": "display_data",
          "data": {
            "text/plain": [
              "<Figure size 432x288 with 1 Axes>"
            ],
            "image/png": "[encoded data removed]"
          },
          "metadata": {
            "needs_background": "light"
          }
        },
        {
          "output_type": "display_data",
          "data": {
            "text/plain": [
              "<Figure size 432x288 with 1 Axes>"
            ],
            "image/png": "[encoded data removed]"
          },
          "metadata": {
            "needs_background": "light"
          }
        }
      ]
    }
  ],
  "metadata": {
    "kernelspec": {
      "display_name": "Python 3",
      "language": "python",
      "name": "python3"
    },
    "language_info": {
      "name": "python",
      "version": "3.10.10"
    },
    "orig_nbformat": 4,
    "colab": {
      "provenance": [],
      "include_colab_link": true
    },
    "accelerator": "GPU",
    "gpuClass": "standard"
  },
  "nbformat": 4,
  "nbformat_minor": 0
}
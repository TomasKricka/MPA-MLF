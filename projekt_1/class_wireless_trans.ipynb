{
  "cells": [
    {
      "cell_type": "markdown",
      "metadata": {
        "id": "view-in-github",
        "colab_type": "text"
      },
      "source": [
        "<a href=\"https://colab.research.google.com/github/TomasKricka/MPA-MLF/blob/main/projekt_1/class_wireless_trans.ipynb\" target=\"_parent\"><img src=\"https://colab.research.google.com/assets/colab-badge.svg\" alt=\"Open In Colab\"/></a>"
      ]
    },
    {
      "cell_type": "code",
      "execution_count": 1,
      "metadata": {
        "id": "ymSBGv2Fr2OX"
      },
      "outputs": [],
      "source": [
        "from keras.models import Sequential\n",
        "from keras.layers import Dense, Flatten\n",
        "from keras.optimizers import SGD, RMSprop, Adamax, Adagrad, Ftrl\n",
        "\n",
        "from keras.utils import to_categorical\n",
        "import matplotlib.pyplot as plt\n",
        "import matplotlib\n",
        "import numpy as np\n",
        "import pandas as pd\n",
        "\n",
        "from sklearn.neighbors import KNeighborsClassifier\n",
        "from sklearn.model_selection import train_test_split\n",
        "\n",
        "from keras.backend import clear_session\n",
        "\n",
        "font = {'weight' : 'bold',\n",
        "        'size'   : 12}\n",
        "\n",
        "matplotlib.rc('font', **font)"
      ]
    },
    {
      "cell_type": "code",
      "source": [
        "from google.colab import drive\n",
        "drive.mount('/content/drive')"
      ],
      "metadata": {
        "id": "jssg-nC2sZBx",
        "colab": {
          "base_uri": "https://localhost:8080/"
        },
        "outputId": "96a11e12-83c1-4a9b-aa3a-2541e78e464f"
      },
      "execution_count": 116,
      "outputs": [
        {
          "output_type": "stream",
          "name": "stdout",
          "text": [
            "Drive already mounted at /content/drive; to attempt to forcibly remount, call drive.mount(\"/content/drive\", force_remount=True).\n"
          ]
        }
      ]
    },
    {
      "cell_type": "code",
      "source": [
        "path_to_x_test = 'drive/MyDrive/MLF/projekt 1/x_test.csv' \n",
        "pd_x_test = pd.read_csv(path_to_x_test)\n",
        "\n",
        "path_to_x_train = 'drive/MyDrive/MLF/projekt 1/x_train.csv' \n",
        "pd_x_train = pd.read_csv(path_to_x_train)\n",
        "\n",
        "path_to_y_train = 'drive/MyDrive/MLF/projekt 1/y_train.csv' \n",
        "pd_y_train = pd.read_csv(path_to_y_train)\n",
        "\n",
        "x_train, x_test, y_train, y_test = train_test_split(pd_x_train,pd_y_train, test_size=0.2)\n",
        "y_train = y_train.drop(\"id\", axis = 1)\n",
        "y_test = y_test.drop(\"id\", axis = 1)"
      ],
      "metadata": {
        "id": "jajUKu25Y0zK"
      },
      "execution_count": 126,
      "outputs": []
    },
    {
      "cell_type": "markdown",
      "source": [
        "###Data preprocessing###"
      ],
      "metadata": {
        "id": "MJlDEkQB5NP8"
      }
    },
    {
      "cell_type": "code",
      "source": [
        "x_train_scaled = abs(x_train.astype('float32'))/1000\n"
      ],
      "metadata": {
        "id": "yxk7hjSU5TbR"
      },
      "execution_count": 127,
      "outputs": []
    },
    {
      "cell_type": "code",
      "source": [
        "y_train_encoded = to_categorical(y_train, num_classes=9)"
      ],
      "metadata": {
        "id": "_HeuLqbR-QVI"
      },
      "execution_count": 128,
      "outputs": []
    },
    {
      "cell_type": "markdown",
      "source": [
        "###Model building###"
      ],
      "metadata": {
        "id": "Wj3_qzuv1Yku"
      }
    },
    {
      "cell_type": "code",
      "source": [
        "model = Sequential()\n",
        "model.add(Flatten(input_shape=(12, 1)))      \n",
        "model.add(Dense(256, activation='sigmoid'))\n",
        "model.add(Dense(256, activation='sigmoid'))\n",
        "model.add(Dense(9, activation='softmax'))"
      ],
      "metadata": {
        "id": "E4FHWDq71chU"
      },
      "execution_count": 129,
      "outputs": []
    },
    {
      "cell_type": "code",
      "source": [
        "model.summary()"
      ],
      "metadata": {
        "id": "L2OzDHvE13B9",
        "colab": {
          "base_uri": "https://localhost:8080/"
        },
        "outputId": "a2bf2029-419d-4351-8a5d-e623e1a971d0"
      },
      "execution_count": 130,
      "outputs": [
        {
          "output_type": "stream",
          "name": "stdout",
          "text": [
            "Model: \"sequential_17\"\n",
            "_________________________________________________________________\n",
            " Layer (type)                Output Shape              Param #   \n",
            "=================================================================\n",
            " flatten_16 (Flatten)        (None, 12)                0         \n",
            "                                                                 \n",
            " dense_34 (Dense)            (None, 256)               3328      \n",
            "                                                                 \n",
            " dense_35 (Dense)            (None, 256)               65792     \n",
            "                                                                 \n",
            " dense_36 (Dense)            (None, 9)                 2313      \n",
            "                                                                 \n",
            "=================================================================\n",
            "Total params: 71,433\n",
            "Trainable params: 71,433\n",
            "Non-trainable params: 0\n",
            "_________________________________________________________________\n"
          ]
        }
      ]
    },
    {
      "cell_type": "code",
      "source": [
        "optimizer = SGD(learning_rate = 0.15)\n",
        "model.compile(loss='categorical_crossentropy', optimizer=optimizer, metrics=['accuracy'])"
      ],
      "metadata": {
        "id": "3kYu8Yy-13pw"
      },
      "execution_count": 131,
      "outputs": []
    },
    {
      "cell_type": "markdown",
      "source": [
        "###Model trainnig###"
      ],
      "metadata": {
        "id": "D19kl_O-17Z1"
      }
    },
    {
      "cell_type": "code",
      "source": [
        "history = model.fit(x_train_scaled, y_train_encoded, epochs=100, batch_size=64, validation_split = 0.2)\n"
      ],
      "metadata": {
        "id": "etR2my9a2ESU",
        "colab": {
          "base_uri": "https://localhost:8080/"
        },
        "outputId": "63b87c3b-d58d-4f0f-850e-5a29c4a17dd2"
      },
      "execution_count": 132,
      "outputs": [
        {
          "output_type": "stream",
          "name": "stdout",
          "text": [
            "Epoch 1/100\n",
            "154/154 [==============================] - 5s 32ms/step - loss: 2.1725 - accuracy: 0.1217 - val_loss: 2.1140 - val_accuracy: 0.1265\n",
            "Epoch 2/100\n",
            "154/154 [==============================] - 2s 13ms/step - loss: 2.1127 - accuracy: 0.1318 - val_loss: 2.1082 - val_accuracy: 0.1253\n",
            "Epoch 3/100\n",
            "154/154 [==============================] - 3s 20ms/step - loss: 2.1039 - accuracy: 0.1281 - val_loss: 2.0847 - val_accuracy: 0.1993\n",
            "Epoch 4/100\n",
            "154/154 [==============================] - 3s 17ms/step - loss: 2.0920 - accuracy: 0.1298 - val_loss: 2.1292 - val_accuracy: 0.1286\n",
            "Epoch 5/100\n",
            "154/154 [==============================] - 0s 3ms/step - loss: 2.0843 - accuracy: 0.1388 - val_loss: 2.0889 - val_accuracy: 0.1216\n",
            "Epoch 6/100\n",
            "154/154 [==============================] - 2s 16ms/step - loss: 2.0762 - accuracy: 0.1487 - val_loss: 2.0963 - val_accuracy: 0.1216\n",
            "Epoch 7/100\n",
            "154/154 [==============================] - 3s 20ms/step - loss: 2.0683 - accuracy: 0.1466 - val_loss: 2.0635 - val_accuracy: 0.1953\n",
            "Epoch 8/100\n",
            "154/154 [==============================] - 3s 20ms/step - loss: 2.0493 - accuracy: 0.1767 - val_loss: 2.0278 - val_accuracy: 0.2632\n",
            "Epoch 9/100\n",
            "154/154 [==============================] - 3s 20ms/step - loss: 2.0150 - accuracy: 0.1953 - val_loss: 1.9857 - val_accuracy: 0.1985\n",
            "Epoch 10/100\n",
            "154/154 [==============================] - 1s 7ms/step - loss: 1.9547 - accuracy: 0.2190 - val_loss: 2.1680 - val_accuracy: 0.1391\n",
            "Epoch 11/100\n",
            "154/154 [==============================] - 3s 21ms/step - loss: 1.9386 - accuracy: 0.2132 - val_loss: 1.8150 - val_accuracy: 0.2775\n",
            "Epoch 12/100\n",
            "154/154 [==============================] - 3s 20ms/step - loss: 1.8847 - accuracy: 0.2378 - val_loss: 2.6538 - val_accuracy: 0.1452\n",
            "Epoch 13/100\n",
            "154/154 [==============================] - 4s 27ms/step - loss: 1.8660 - accuracy: 0.2374 - val_loss: 1.8043 - val_accuracy: 0.2575\n",
            "Epoch 14/100\n",
            "154/154 [==============================] - 4s 27ms/step - loss: 1.8081 - accuracy: 0.2606 - val_loss: 1.7769 - val_accuracy: 0.2750\n",
            "Epoch 15/100\n",
            "154/154 [==============================] - 3s 21ms/step - loss: 1.7993 - accuracy: 0.2625 - val_loss: 1.7207 - val_accuracy: 0.2592\n",
            "Epoch 16/100\n",
            "154/154 [==============================] - 4s 28ms/step - loss: 1.7570 - accuracy: 0.2686 - val_loss: 1.6874 - val_accuracy: 0.2893\n",
            "Epoch 17/100\n",
            "154/154 [==============================] - 3s 21ms/step - loss: 1.7651 - accuracy: 0.2713 - val_loss: 1.6771 - val_accuracy: 0.2921\n",
            "Epoch 18/100\n",
            "154/154 [==============================] - 3s 20ms/step - loss: 1.7168 - accuracy: 0.2867 - val_loss: 1.7068 - val_accuracy: 0.2661\n",
            "Epoch 19/100\n",
            "154/154 [==============================] - 4s 27ms/step - loss: 1.7358 - accuracy: 0.2804 - val_loss: 1.6868 - val_accuracy: 0.2958\n",
            "Epoch 20/100\n",
            "154/154 [==============================] - 3s 20ms/step - loss: 1.7049 - accuracy: 0.2849 - val_loss: 1.7104 - val_accuracy: 0.2697\n",
            "Epoch 21/100\n",
            "154/154 [==============================] - 3s 21ms/step - loss: 1.7174 - accuracy: 0.2855 - val_loss: 1.6947 - val_accuracy: 0.2766\n",
            "Epoch 22/100\n",
            "154/154 [==============================] - 4s 28ms/step - loss: 1.6948 - accuracy: 0.2931 - val_loss: 1.6527 - val_accuracy: 0.3027\n",
            "Epoch 23/100\n",
            "154/154 [==============================] - 1s 5ms/step - loss: 1.6882 - accuracy: 0.2933 - val_loss: 1.6925 - val_accuracy: 0.2754\n",
            "Epoch 24/100\n",
            "154/154 [==============================] - 2s 15ms/step - loss: 1.6988 - accuracy: 0.2838 - val_loss: 1.6641 - val_accuracy: 0.2766\n",
            "Epoch 25/100\n",
            "154/154 [==============================] - 3s 21ms/step - loss: 1.6894 - accuracy: 0.2928 - val_loss: 1.6865 - val_accuracy: 0.2856\n",
            "Epoch 26/100\n",
            "154/154 [==============================] - 4s 27ms/step - loss: 1.6670 - accuracy: 0.2929 - val_loss: 1.6766 - val_accuracy: 0.2962\n",
            "Epoch 27/100\n",
            "154/154 [==============================] - 3s 21ms/step - loss: 1.6775 - accuracy: 0.2953 - val_loss: 1.8002 - val_accuracy: 0.2587\n",
            "Epoch 28/100\n",
            "154/154 [==============================] - 1s 6ms/step - loss: 1.6855 - accuracy: 0.2909 - val_loss: 1.6756 - val_accuracy: 0.2933\n",
            "Epoch 29/100\n",
            "154/154 [==============================] - 1s 9ms/step - loss: 1.6682 - accuracy: 0.2932 - val_loss: 1.6388 - val_accuracy: 0.3039\n",
            "Epoch 30/100\n",
            "154/154 [==============================] - 1s 7ms/step - loss: 1.6636 - accuracy: 0.2941 - val_loss: 1.8000 - val_accuracy: 0.2669\n",
            "Epoch 31/100\n",
            "154/154 [==============================] - 2s 11ms/step - loss: 1.6717 - accuracy: 0.2965 - val_loss: 1.6437 - val_accuracy: 0.2994\n",
            "Epoch 32/100\n",
            "154/154 [==============================] - 1s 6ms/step - loss: 1.6641 - accuracy: 0.2941 - val_loss: 1.6410 - val_accuracy: 0.3116\n",
            "Epoch 33/100\n",
            "154/154 [==============================] - 1s 4ms/step - loss: 1.6601 - accuracy: 0.3017 - val_loss: 1.6707 - val_accuracy: 0.3007\n",
            "Epoch 34/100\n",
            "154/154 [==============================] - 3s 21ms/step - loss: 1.6653 - accuracy: 0.3002 - val_loss: 1.6443 - val_accuracy: 0.3145\n",
            "Epoch 35/100\n",
            "154/154 [==============================] - 3s 20ms/step - loss: 1.6610 - accuracy: 0.3006 - val_loss: 1.6596 - val_accuracy: 0.3153\n",
            "Epoch 36/100\n",
            "154/154 [==============================] - 3s 17ms/step - loss: 1.6570 - accuracy: 0.2940 - val_loss: 1.6454 - val_accuracy: 0.3031\n",
            "Epoch 37/100\n",
            "154/154 [==============================] - 1s 6ms/step - loss: 1.6538 - accuracy: 0.2979 - val_loss: 1.6479 - val_accuracy: 0.2954\n",
            "Epoch 38/100\n",
            "154/154 [==============================] - 1s 3ms/step - loss: 1.6519 - accuracy: 0.3025 - val_loss: 1.7230 - val_accuracy: 0.2823\n",
            "Epoch 39/100\n",
            "154/154 [==============================] - 4s 27ms/step - loss: 1.6519 - accuracy: 0.3012 - val_loss: 1.6544 - val_accuracy: 0.2958\n",
            "Epoch 40/100\n",
            "154/154 [==============================] - 3s 20ms/step - loss: 1.6520 - accuracy: 0.3009 - val_loss: 1.6459 - val_accuracy: 0.3019\n",
            "Epoch 41/100\n",
            "154/154 [==============================] - 4s 28ms/step - loss: 1.6478 - accuracy: 0.3018 - val_loss: 1.7716 - val_accuracy: 0.2726\n",
            "Epoch 42/100\n",
            "154/154 [==============================] - 3s 20ms/step - loss: 1.6548 - accuracy: 0.3031 - val_loss: 1.7844 - val_accuracy: 0.2734\n",
            "Epoch 43/100\n",
            "154/154 [==============================] - 4s 27ms/step - loss: 1.6491 - accuracy: 0.3018 - val_loss: 1.6687 - val_accuracy: 0.3027\n",
            "Epoch 44/100\n",
            "154/154 [==============================] - 4s 27ms/step - loss: 1.6477 - accuracy: 0.3046 - val_loss: 1.6491 - val_accuracy: 0.2990\n",
            "Epoch 45/100\n",
            "154/154 [==============================] - 3s 21ms/step - loss: 1.6471 - accuracy: 0.3056 - val_loss: 1.6540 - val_accuracy: 0.2897\n",
            "Epoch 46/100\n",
            "154/154 [==============================] - 4s 23ms/step - loss: 1.6498 - accuracy: 0.3015 - val_loss: 1.6431 - val_accuracy: 0.2909\n",
            "Epoch 47/100\n",
            "154/154 [==============================] - 2s 11ms/step - loss: 1.6487 - accuracy: 0.3019 - val_loss: 1.6926 - val_accuracy: 0.2913\n",
            "Epoch 48/100\n",
            "154/154 [==============================] - 4s 27ms/step - loss: 1.6435 - accuracy: 0.3071 - val_loss: 1.6648 - val_accuracy: 0.2950\n",
            "Epoch 49/100\n",
            "154/154 [==============================] - 3s 17ms/step - loss: 1.6464 - accuracy: 0.3033 - val_loss: 1.6515 - val_accuracy: 0.2823\n",
            "Epoch 50/100\n",
            "154/154 [==============================] - 1s 3ms/step - loss: 1.6489 - accuracy: 0.3024 - val_loss: 1.6615 - val_accuracy: 0.3007\n",
            "Epoch 51/100\n",
            "154/154 [==============================] - 2s 11ms/step - loss: 1.6435 - accuracy: 0.3036 - val_loss: 1.6873 - val_accuracy: 0.2901\n",
            "Epoch 52/100\n",
            "154/154 [==============================] - 3s 21ms/step - loss: 1.6462 - accuracy: 0.3060 - val_loss: 1.6464 - val_accuracy: 0.3011\n",
            "Epoch 53/100\n",
            "154/154 [==============================] - 3s 21ms/step - loss: 1.6434 - accuracy: 0.3041 - val_loss: 1.6350 - val_accuracy: 0.3068\n",
            "Epoch 54/100\n",
            "154/154 [==============================] - 4s 28ms/step - loss: 1.6488 - accuracy: 0.2999 - val_loss: 1.6446 - val_accuracy: 0.3153\n",
            "Epoch 55/100\n",
            "154/154 [==============================] - 3s 21ms/step - loss: 1.6417 - accuracy: 0.3060 - val_loss: 1.6438 - val_accuracy: 0.3133\n",
            "Epoch 56/100\n",
            "154/154 [==============================] - 3s 21ms/step - loss: 1.6441 - accuracy: 0.2978 - val_loss: 1.6392 - val_accuracy: 0.3007\n",
            "Epoch 57/100\n",
            "154/154 [==============================] - 4s 27ms/step - loss: 1.6423 - accuracy: 0.3037 - val_loss: 1.6472 - val_accuracy: 0.2933\n",
            "Epoch 58/100\n",
            "154/154 [==============================] - 3s 21ms/step - loss: 1.6431 - accuracy: 0.3079 - val_loss: 1.6407 - val_accuracy: 0.3011\n",
            "Epoch 59/100\n",
            "154/154 [==============================] - 1s 5ms/step - loss: 1.6432 - accuracy: 0.3053 - val_loss: 1.6422 - val_accuracy: 0.2986\n",
            "Epoch 60/100\n",
            "154/154 [==============================] - 1s 9ms/step - loss: 1.6399 - accuracy: 0.3014 - val_loss: 1.7289 - val_accuracy: 0.2701\n",
            "Epoch 61/100\n",
            "154/154 [==============================] - 4s 28ms/step - loss: 1.6396 - accuracy: 0.3012 - val_loss: 1.6378 - val_accuracy: 0.2905\n",
            "Epoch 62/100\n",
            "154/154 [==============================] - 3s 21ms/step - loss: 1.6392 - accuracy: 0.3045 - val_loss: 1.6358 - val_accuracy: 0.3059\n",
            "Epoch 63/100\n",
            "154/154 [==============================] - 2s 11ms/step - loss: 1.6425 - accuracy: 0.3009 - val_loss: 1.6360 - val_accuracy: 0.3149\n",
            "Epoch 64/100\n",
            "154/154 [==============================] - 0s 3ms/step - loss: 1.6374 - accuracy: 0.3035 - val_loss: 1.6377 - val_accuracy: 0.3169\n",
            "Epoch 65/100\n",
            "154/154 [==============================] - 3s 21ms/step - loss: 1.6417 - accuracy: 0.3031 - val_loss: 1.6386 - val_accuracy: 0.3214\n",
            "Epoch 66/100\n",
            "154/154 [==============================] - 4s 27ms/step - loss: 1.6371 - accuracy: 0.3031 - val_loss: 1.6368 - val_accuracy: 0.3055\n",
            "Epoch 67/100\n",
            "154/154 [==============================] - 3s 21ms/step - loss: 1.6394 - accuracy: 0.3071 - val_loss: 1.6356 - val_accuracy: 0.3002\n",
            "Epoch 68/100\n",
            "154/154 [==============================] - 4s 29ms/step - loss: 1.6365 - accuracy: 0.3064 - val_loss: 1.6687 - val_accuracy: 0.2925\n",
            "Epoch 69/100\n",
            "154/154 [==============================] - 1s 4ms/step - loss: 1.6363 - accuracy: 0.3080 - val_loss: 1.6367 - val_accuracy: 0.3076\n",
            "Epoch 70/100\n",
            "154/154 [==============================] - 0s 3ms/step - loss: 1.6340 - accuracy: 0.3064 - val_loss: 1.6315 - val_accuracy: 0.2986\n",
            "Epoch 71/100\n",
            "154/154 [==============================] - 1s 4ms/step - loss: 1.6400 - accuracy: 0.3074 - val_loss: 1.6749 - val_accuracy: 0.2978\n",
            "Epoch 72/100\n",
            "154/154 [==============================] - 3s 20ms/step - loss: 1.6372 - accuracy: 0.3082 - val_loss: 1.6570 - val_accuracy: 0.3096\n",
            "Epoch 73/100\n",
            "154/154 [==============================] - 1s 5ms/step - loss: 1.6361 - accuracy: 0.3055 - val_loss: 1.6307 - val_accuracy: 0.3063\n",
            "Epoch 74/100\n",
            "154/154 [==============================] - 0s 3ms/step - loss: 1.6368 - accuracy: 0.3063 - val_loss: 1.6325 - val_accuracy: 0.3059\n",
            "Epoch 75/100\n",
            "154/154 [==============================] - 3s 22ms/step - loss: 1.6367 - accuracy: 0.3054 - val_loss: 1.6309 - val_accuracy: 0.3116\n",
            "Epoch 76/100\n",
            "154/154 [==============================] - 2s 11ms/step - loss: 1.6357 - accuracy: 0.3056 - val_loss: 1.6524 - val_accuracy: 0.3104\n",
            "Epoch 77/100\n",
            "154/154 [==============================] - 3s 21ms/step - loss: 1.6355 - accuracy: 0.3071 - val_loss: 1.6490 - val_accuracy: 0.3104\n",
            "Epoch 78/100\n",
            "154/154 [==============================] - 3s 21ms/step - loss: 1.6362 - accuracy: 0.3058 - val_loss: 1.6419 - val_accuracy: 0.3007\n",
            "Epoch 79/100\n",
            "154/154 [==============================] - 3s 17ms/step - loss: 1.6338 - accuracy: 0.3013 - val_loss: 1.6330 - val_accuracy: 0.3072\n",
            "Epoch 80/100\n",
            "154/154 [==============================] - 1s 5ms/step - loss: 1.6341 - accuracy: 0.3079 - val_loss: 1.6450 - val_accuracy: 0.3181\n",
            "Epoch 81/100\n",
            "154/154 [==============================] - 0s 3ms/step - loss: 1.6329 - accuracy: 0.3068 - val_loss: 1.6389 - val_accuracy: 0.2917\n",
            "Epoch 82/100\n",
            "154/154 [==============================] - 2s 15ms/step - loss: 1.6345 - accuracy: 0.3064 - val_loss: 1.6304 - val_accuracy: 0.3002\n",
            "Epoch 83/100\n",
            "154/154 [==============================] - 3s 21ms/step - loss: 1.6337 - accuracy: 0.3057 - val_loss: 1.6284 - val_accuracy: 0.3137\n",
            "Epoch 84/100\n",
            "154/154 [==============================] - 3s 19ms/step - loss: 1.6318 - accuracy: 0.3110 - val_loss: 1.6283 - val_accuracy: 0.3023\n",
            "Epoch 85/100\n",
            "154/154 [==============================] - 2s 11ms/step - loss: 1.6328 - accuracy: 0.3092 - val_loss: 1.6311 - val_accuracy: 0.3039\n",
            "Epoch 86/100\n",
            "154/154 [==============================] - 1s 6ms/step - loss: 1.6328 - accuracy: 0.3078 - val_loss: 1.6436 - val_accuracy: 0.2852\n",
            "Epoch 87/100\n",
            "154/154 [==============================] - 1s 4ms/step - loss: 1.6319 - accuracy: 0.3109 - val_loss: 1.6348 - val_accuracy: 0.3068\n",
            "Epoch 88/100\n",
            "154/154 [==============================] - 3s 21ms/step - loss: 1.6319 - accuracy: 0.3121 - val_loss: 1.6377 - val_accuracy: 0.3007\n",
            "Epoch 89/100\n",
            "154/154 [==============================] - 4s 27ms/step - loss: 1.6322 - accuracy: 0.3036 - val_loss: 1.6690 - val_accuracy: 0.3015\n",
            "Epoch 90/100\n",
            "154/154 [==============================] - 2s 11ms/step - loss: 1.6296 - accuracy: 0.3145 - val_loss: 1.6324 - val_accuracy: 0.2990\n",
            "Epoch 91/100\n",
            "154/154 [==============================] - 1s 6ms/step - loss: 1.6298 - accuracy: 0.3112 - val_loss: 1.6330 - val_accuracy: 0.3226\n",
            "Epoch 92/100\n",
            "154/154 [==============================] - 2s 10ms/step - loss: 1.6311 - accuracy: 0.3060 - val_loss: 1.6379 - val_accuracy: 0.3214\n",
            "Epoch 93/100\n",
            "154/154 [==============================] - 3s 21ms/step - loss: 1.6311 - accuracy: 0.3061 - val_loss: 1.6312 - val_accuracy: 0.3124\n",
            "Epoch 94/100\n",
            "154/154 [==============================] - 4s 28ms/step - loss: 1.6284 - accuracy: 0.3074 - val_loss: 1.6366 - val_accuracy: 0.3011\n",
            "Epoch 95/100\n",
            "154/154 [==============================] - 4s 27ms/step - loss: 1.6327 - accuracy: 0.3066 - val_loss: 1.6297 - val_accuracy: 0.3063\n",
            "Epoch 96/100\n",
            "154/154 [==============================] - 4s 27ms/step - loss: 1.6287 - accuracy: 0.3117 - val_loss: 1.6263 - val_accuracy: 0.3186\n",
            "Epoch 97/100\n",
            "154/154 [==============================] - 4s 27ms/step - loss: 1.6315 - accuracy: 0.3064 - val_loss: 1.6594 - val_accuracy: 0.3055\n",
            "Epoch 98/100\n",
            "154/154 [==============================] - 3s 21ms/step - loss: 1.6322 - accuracy: 0.3141 - val_loss: 1.6308 - val_accuracy: 0.3149\n",
            "Epoch 99/100\n",
            "154/154 [==============================] - 3s 21ms/step - loss: 1.6302 - accuracy: 0.3116 - val_loss: 1.6261 - val_accuracy: 0.3088\n",
            "Epoch 100/100\n",
            "154/154 [==============================] - 4s 28ms/step - loss: 1.6292 - accuracy: 0.3096 - val_loss: 1.6350 - val_accuracy: 0.3063\n"
          ]
        }
      ]
    },
    {
      "cell_type": "code",
      "source": [
        "x_test_t = abs(x_test.astype('float32'))/1000\n",
        "y_test_encoded = to_categorical(y_test, num_classes=9)"
      ],
      "metadata": {
        "id": "YM0ooNmXUfo5"
      },
      "execution_count": 133,
      "outputs": []
    },
    {
      "cell_type": "code",
      "source": [
        "score = model.evaluate(x_test_t, y_test_encoded, verbose=0)\n",
        "print('Test loss:', score[0])\n",
        "print(f'Test accuracy: {score[1]*100} %')"
      ],
      "metadata": {
        "colab": {
          "base_uri": "https://localhost:8080/"
        },
        "id": "eBepk5ZMUVal",
        "outputId": "548296e4-8e93-4780-b02e-9b29d2001513"
      },
      "execution_count": 134,
      "outputs": [
        {
          "output_type": "stream",
          "name": "stdout",
          "text": [
            "Test loss: 1.62234628200531\n",
            "Test accuracy: 30.6640625 %\n"
          ]
        }
      ]
    }
  ],
  "metadata": {
    "kernelspec": {
      "display_name": "Python 3",
      "language": "python",
      "name": "python3"
    },
    "language_info": {
      "name": "python",
      "version": "3.10.10"
    },
    "orig_nbformat": 4,
    "colab": {
      "provenance": [],
      "include_colab_link": true
    },
    "accelerator": "GPU",
    "gpuClass": "standard"
  },
  "nbformat": 4,
  "nbformat_minor": 0
}
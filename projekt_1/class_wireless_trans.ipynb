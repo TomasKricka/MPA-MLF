{
  "cells": [
    {
      "cell_type": "markdown",
      "metadata": {
        "id": "view-in-github",
        "colab_type": "text"
      },
      "source": [
        "<a href=\"https://colab.research.google.com/github/TomasKricka/MPA-MLF/blob/main/projekt_1/class_wireless_trans.ipynb\" target=\"_parent\"><img src=\"https://colab.research.google.com/assets/colab-badge.svg\" alt=\"Open In Colab\"/></a>"
      ]
    },
    {
      "cell_type": "markdown",
      "source": [
        "# MPA-MLF miniprojekt 1"
      ],
      "metadata": {
        "id": "Tb8YthhCbjkg"
      }
    },
    {
      "cell_type": "code",
      "execution_count": null,
      "metadata": {
        "id": "ymSBGv2Fr2OX"
      },
      "outputs": [],
      "source": [
        "from keras.models import Sequential\n",
        "from keras.layers import Dense, Flatten\n",
        "from keras.optimizers import SGD, RMSprop, Adamax, Adagrad, Ftrl\n",
        "\n",
        "from keras.utils import to_categorical, plot_model, model_to_dot\n",
        "import matplotlib.pyplot as plt\n",
        "import matplotlib\n",
        "import numpy as np\n",
        "import pandas as pd\n",
        "\n",
        "from sklearn.neighbors import KNeighborsClassifier\n",
        "from sklearn.model_selection import train_test_split\n",
        "\n",
        "from keras.backend import clear_session\n",
        "\n",
        "font = {'weight' : 'bold',\n",
        "        'size'   : 12}\n",
        "\n",
        "matplotlib.rc('font', **font)"
      ]
    },
    {
      "cell_type": "code",
      "source": [
        "from google.colab import drive, files\n",
        "drive.mount('/content/drive')"
      ],
      "metadata": {
        "id": "jssg-nC2sZBx",
        "colab": {
          "base_uri": "https://localhost:8080/"
        },
        "outputId": "0c451d01-572d-4d6f-d899-b0b973212a3a"
      },
      "execution_count": null,
      "outputs": [
        {
          "output_type": "stream",
          "name": "stdout",
          "text": [
            "Mounted at /content/drive\n"
          ]
        }
      ]
    },
    {
      "cell_type": "code",
      "source": [
        "path_to_x_test = 'drive/MyDrive/MLF/projekt 1/x_test.csv' \n",
        "pd_x_test = pd.read_csv(path_to_x_test)\n",
        "\n",
        "path_to_x_train = 'drive/MyDrive/MLF/projekt 1/x_train.csv' \n",
        "pd_x_train = pd.read_csv(path_to_x_train)\n",
        "\n",
        "path_to_y_train = 'drive/MyDrive/MLF/projekt 1/y_train.csv' \n",
        "pd_y_train = pd.read_csv(path_to_y_train)\n",
        "\n",
        "clasess = 8"
      ],
      "metadata": {
        "id": "jajUKu25Y0zK"
      },
      "execution_count": null,
      "outputs": []
    },
    {
      "cell_type": "markdown",
      "source": [
        "## Separate useful data and divede train ant test data"
      ],
      "metadata": {
        "id": "Ske6SXs0buug"
      }
    },
    {
      "cell_type": "code",
      "source": [
        "x_train = pd_x_train.drop(\"Unnamed: 0\", axis = 1)\n",
        "x_train = x_train.drop(\"m_power\", axis = 1)\n",
        "x_train = x_train.drop(\"Tosc\", axis = 1)\n",
        "x_train_cols = x_train.drop(\"Tmix\", axis = 1)\n",
        "\n",
        "\n",
        "x_test = pd_x_test.drop(\"Unnamed: 0\", axis = 1)\n",
        "x_test = x_test.drop(\"m_power\", axis = 1)\n",
        "x_test = x_test.drop(\"Tosc\", axis = 1)\n",
        "x_test = x_test.drop(\"Tmix\", axis = 1)\n",
        "x_test_pred = x_test\n",
        "\n",
        "x_train, x_test, y_train, y_test = train_test_split(x_train_cols,pd_y_train, test_size=0.2)\n",
        "\n",
        "y_train = y_train.drop(\"id\", axis = 1)\n",
        "y_test = y_test.drop(\"id\", axis = 1)"
      ],
      "metadata": {
        "id": "IuBg6koMKiTp"
      },
      "execution_count": null,
      "outputs": []
    },
    {
      "cell_type": "markdown",
      "source": [
        "## Data preprocessing"
      ],
      "metadata": {
        "id": "MJlDEkQB5NP8"
      }
    },
    {
      "cell_type": "code",
      "source": [
        "x_train_scaled = abs((x_train-x_train.min())/(x_train.max()-x_train.min()))\n",
        "\n",
        "y_train = y_train - 1\n",
        "\n",
        "y_train_encoded = to_categorical(y_train, num_classes=clasess)"
      ],
      "metadata": {
        "id": "yxk7hjSU5TbR"
      },
      "execution_count": null,
      "outputs": []
    },
    {
      "cell_type": "markdown",
      "source": [
        "## Model building and opitimze"
      ],
      "metadata": {
        "id": "Wj3_qzuv1Yku"
      }
    },
    {
      "cell_type": "code",
      "source": [
        "model = Sequential()\n",
        "model.add(Flatten(input_shape=(clasess, 1)))      \n",
        "model.add(Dense(64, activation='relu'))\n",
        "model.add(Dense(clasess, activation='softmax'))\n",
        "\n",
        "model.summary()"
      ],
      "metadata": {
        "id": "E4FHWDq71chU",
        "colab": {
          "base_uri": "https://localhost:8080/"
        },
        "outputId": "52bbbf59-b7f7-4807-b94c-4d1ea74ef0ea"
      },
      "execution_count": null,
      "outputs": [
        {
          "output_type": "stream",
          "name": "stdout",
          "text": [
            "Model: \"sequential_1\"\n",
            "_________________________________________________________________\n",
            " Layer (type)                Output Shape              Param #   \n",
            "=================================================================\n",
            " flatten (Flatten)           (None, 8)                 0         \n",
            "                                                                 \n",
            " dense (Dense)               (None, 64)                576       \n",
            "                                                                 \n",
            " dense_1 (Dense)             (None, 8)                 520       \n",
            "                                                                 \n",
            "=================================================================\n",
            "Total params: 1,096\n",
            "Trainable params: 1,096\n",
            "Non-trainable params: 0\n",
            "_________________________________________________________________\n"
          ]
        }
      ]
    },
    {
      "cell_type": "code",
      "source": [
        "plot_model(\n",
        "    model,\n",
        "    to_file=\"model.png\",\n",
        "    show_shapes=True,\n",
        "    show_dtype=True,\n",
        "    show_layer_names=True,\n",
        "    rankdir=\"TB\",\n",
        "    expand_nested=True,\n",
        "    dpi=96,\n",
        "    layer_range=None,\n",
        "    show_layer_activations=True,\n",
        "    show_trainable=False,\n",
        ")"
      ],
      "metadata": {
        "colab": {
          "base_uri": "https://localhost:8080/",
          "height": 545
        },
        "id": "YQiGBmnkd-0A",
        "outputId": "57d0406b-1b97-4292-d07c-9f3a767f040c"
      },
      "execution_count": null,
      "outputs": [
        {
          "output_type": "execute_result",
          "data": {
            "image/png": "[encoded data removed]",
            "text/plain": [
              "<IPython.core.display.Image object>"
            ]
          },
          "metadata": {},
          "execution_count": 5
        }
      ]
    },
    {
      "cell_type": "code",
      "source": [
        "optimizer = SGD(learning_rate = 0.15)\n",
        "model.compile(loss='categorical_crossentropy', optimizer=optimizer, metrics=['accuracy'])"
      ],
      "metadata": {
        "id": "3kYu8Yy-13pw"
      },
      "execution_count": null,
      "outputs": []
    },
    {
      "cell_type": "markdown",
      "source": [
        "## Model trainnig"
      ],
      "metadata": {
        "id": "D19kl_O-17Z1"
      }
    },
    {
      "cell_type": "code",
      "source": [
        "history = model.fit(x_train_scaled, y_train_encoded, epochs=30, batch_size=32, validation_split = 0.2)"
      ],
      "metadata": {
        "id": "etR2my9a2ESU",
        "colab": {
          "base_uri": "https://localhost:8080/"
        },
        "outputId": "a1b6bf78-0beb-4224-eefa-90f27f602cca"
      },
      "execution_count": null,
      "outputs": [
        {
          "output_type": "stream",
          "name": "stdout",
          "text": [
            "Epoch 1/30\n",
            "308/308 [==============================] - 2s 4ms/step - loss: 1.1341 - accuracy: 0.7209 - val_loss: 0.5811 - val_accuracy: 0.8609\n",
            "Epoch 2/30\n",
            "308/308 [==============================] - 1s 2ms/step - loss: 0.3926 - accuracy: 0.9525 - val_loss: 0.2916 - val_accuracy: 0.9557\n",
            "Epoch 3/30\n",
            "308/308 [==============================] - 1s 2ms/step - loss: 0.2214 - accuracy: 0.9747 - val_loss: 0.1825 - val_accuracy: 0.9837\n",
            "Epoch 4/30\n",
            "308/308 [==============================] - 1s 2ms/step - loss: 0.1514 - accuracy: 0.9819 - val_loss: 0.1310 - val_accuracy: 0.9841\n",
            "Epoch 5/30\n",
            "308/308 [==============================] - 1s 2ms/step - loss: 0.1145 - accuracy: 0.9866 - val_loss: 0.1061 - val_accuracy: 0.9744\n",
            "Epoch 6/30\n",
            "308/308 [==============================] - 1s 2ms/step - loss: 0.0926 - accuracy: 0.9885 - val_loss: 0.0778 - val_accuracy: 0.9910\n",
            "Epoch 7/30\n",
            "308/308 [==============================] - 1s 2ms/step - loss: 0.0770 - accuracy: 0.9913 - val_loss: 0.0649 - val_accuracy: 0.9955\n",
            "Epoch 8/30\n",
            "308/308 [==============================] - 1s 2ms/step - loss: 0.0658 - accuracy: 0.9921 - val_loss: 0.0550 - val_accuracy: 0.9951\n",
            "Epoch 9/30\n",
            "308/308 [==============================] - 1s 2ms/step - loss: 0.0575 - accuracy: 0.9927 - val_loss: 0.0545 - val_accuracy: 0.9935\n",
            "Epoch 10/30\n",
            "308/308 [==============================] - 1s 2ms/step - loss: 0.0508 - accuracy: 0.9928 - val_loss: 0.0507 - val_accuracy: 0.9972\n",
            "Epoch 11/30\n",
            "308/308 [==============================] - 1s 2ms/step - loss: 0.0457 - accuracy: 0.9941 - val_loss: 0.0412 - val_accuracy: 0.9931\n",
            "Epoch 12/30\n",
            "308/308 [==============================] - 1s 2ms/step - loss: 0.0415 - accuracy: 0.9943 - val_loss: 0.0360 - val_accuracy: 0.9959\n",
            "Epoch 13/30\n",
            "308/308 [==============================] - 1s 2ms/step - loss: 0.0382 - accuracy: 0.9948 - val_loss: 0.0399 - val_accuracy: 0.9972\n",
            "Epoch 14/30\n",
            "308/308 [==============================] - 1s 2ms/step - loss: 0.0353 - accuracy: 0.9954 - val_loss: 0.0328 - val_accuracy: 0.9947\n",
            "Epoch 15/30\n",
            "308/308 [==============================] - 1s 3ms/step - loss: 0.0320 - accuracy: 0.9960 - val_loss: 0.0311 - val_accuracy: 0.9951\n",
            "Epoch 16/30\n",
            "308/308 [==============================] - 1s 4ms/step - loss: 0.0305 - accuracy: 0.9959 - val_loss: 0.0243 - val_accuracy: 0.9972\n",
            "Epoch 17/30\n",
            "308/308 [==============================] - 1s 3ms/step - loss: 0.0283 - accuracy: 0.9964 - val_loss: 0.1941 - val_accuracy: 0.9036\n",
            "Epoch 18/30\n",
            "308/308 [==============================] - 1s 3ms/step - loss: 0.0275 - accuracy: 0.9958 - val_loss: 0.0240 - val_accuracy: 0.9967\n",
            "Epoch 19/30\n",
            "308/308 [==============================] - 1s 3ms/step - loss: 0.0251 - accuracy: 0.9967 - val_loss: 0.0201 - val_accuracy: 0.9992\n",
            "Epoch 20/30\n",
            "308/308 [==============================] - 1s 2ms/step - loss: 0.0235 - accuracy: 0.9970 - val_loss: 0.0182 - val_accuracy: 0.9984\n",
            "Epoch 21/30\n",
            "308/308 [==============================] - 1s 2ms/step - loss: 0.0227 - accuracy: 0.9968 - val_loss: 0.0187 - val_accuracy: 0.9988\n",
            "Epoch 22/30\n",
            "308/308 [==============================] - 1s 2ms/step - loss: 0.0214 - accuracy: 0.9973 - val_loss: 0.0168 - val_accuracy: 0.9980\n",
            "Epoch 23/30\n",
            "308/308 [==============================] - 1s 2ms/step - loss: 0.0202 - accuracy: 0.9977 - val_loss: 0.0174 - val_accuracy: 0.9976\n",
            "Epoch 24/30\n",
            "308/308 [==============================] - 1s 2ms/step - loss: 0.0198 - accuracy: 0.9976 - val_loss: 0.0144 - val_accuracy: 0.9996\n",
            "Epoch 25/30\n",
            "308/308 [==============================] - 1s 2ms/step - loss: 0.0188 - accuracy: 0.9970 - val_loss: 0.0142 - val_accuracy: 0.9980\n",
            "Epoch 26/30\n",
            "308/308 [==============================] - 1s 2ms/step - loss: 0.0180 - accuracy: 0.9978 - val_loss: 0.0134 - val_accuracy: 0.9992\n",
            "Epoch 27/30\n",
            "308/308 [==============================] - 1s 2ms/step - loss: 0.0172 - accuracy: 0.9977 - val_loss: 0.0123 - val_accuracy: 0.9992\n",
            "Epoch 28/30\n",
            "308/308 [==============================] - 1s 2ms/step - loss: 0.0164 - accuracy: 0.9977 - val_loss: 0.0123 - val_accuracy: 0.9988\n",
            "Epoch 29/30\n",
            "308/308 [==============================] - 1s 2ms/step - loss: 0.0160 - accuracy: 0.9978 - val_loss: 0.0176 - val_accuracy: 0.9992\n",
            "Epoch 30/30\n",
            "308/308 [==============================] - 1s 2ms/step - loss: 0.0156 - accuracy: 0.9976 - val_loss: 0.0108 - val_accuracy: 1.0000\n"
          ]
        }
      ]
    },
    {
      "cell_type": "code",
      "source": [
        "x_test_scaled = abs((x_test-x_test.min())/(x_test.max()-x_test.min()))\n",
        "y_test = y_test - 1\n",
        "y_test_encoded = to_categorical(y_test, num_classes=clasess)\n",
        "\n",
        "score = model.evaluate(x_test_scaled, y_test_encoded, verbose=0)\n",
        "print('Test loss:', score[0])\n",
        "print(f'Test accuracy: {score[1]*100} %')\n",
        "print(y_test_encoded.shape)"
      ],
      "metadata": {
        "colab": {
          "base_uri": "https://localhost:8080/"
        },
        "id": "eBepk5ZMUVal",
        "outputId": "a5946a5f-19ec-4c93-9f7c-8f79f1d9bb3a"
      },
      "execution_count": null,
      "outputs": [
        {
          "output_type": "stream",
          "name": "stdout",
          "text": [
            "Test loss: 1.9533076286315918\n",
            "Test accuracy: 85.38411259651184 %\n",
            "(3072, 8)\n"
          ]
        }
      ]
    },
    {
      "cell_type": "markdown",
      "source": [
        "## Predicting data"
      ],
      "metadata": {
        "id": "-SVqjRm4ckDu"
      }
    },
    {
      "cell_type": "code",
      "source": [
        "x_test_pred_scaled = abs((x_test_pred-x_test_pred.min())/(x_test_pred.max()-x_test_pred.min()))\n",
        "\n",
        "pred_val = model.predict([x_test_pred_scaled])\n",
        "\n",
        "df = pd.DataFrame(pred_val)\n",
        "\n",
        "row_numb = df.shape[0]\n",
        "\n",
        "pred_numbs = np.argmax(pred_val, axis=1)\n",
        "pred_numbs_res = pred_numbs.reshape ((row_numb,1))\n",
        "print(pred_numbs_res)\n",
        "\n",
        "print(row_numb)\n",
        "\n",
        "pred_numbs_res = pred_numbs_res + 1\n",
        "\n",
        "df = pd.DataFrame(pred_numbs_res)\n",
        "df.columns = [\"target\"]\n",
        "df.to_csv('filename.csv') \n",
        "#files.download('filename.csv')\n",
        "\n",
        "plt.figure()\n",
        "plt.hist(pred_numbs_res, bins=8)\n",
        "plt.xlim([1,8])\n",
        "plt.show()\n",
        "\n"
      ],
      "metadata": {
        "colab": {
          "base_uri": "https://localhost:8080/",
          "height": 451
        },
        "id": "clVqLdRwXhwG",
        "outputId": "a0a61f59-8628-4e42-b387-f8047e99ee40"
      },
      "execution_count": null,
      "outputs": [
        {
          "output_type": "stream",
          "name": "stdout",
          "text": [
            "120/120 [==============================] - 0s 1ms/step\n",
            "(3840, 8)\n",
            "[[4]\n",
            " [7]\n",
            " [4]\n",
            " ...\n",
            " [1]\n",
            " [2]\n",
            " [0]]\n",
            "3840\n"
          ]
        },
        {
          "output_type": "display_data",
          "data": {
            "text/plain": [
              "<Figure size 432x288 with 1 Axes>"
            ],
            "image/png": "[encoded data removed]"
          },
          "metadata": {
            "needs_background": "light"
          }
        }
      ]
    },
    {
      "cell_type": "code",
      "source": [
        "plt.figure()\n",
        "plt.plot(history.history['loss'], label=\"loss\")\n",
        "plt.plot(history.history['val_loss'], label=\"val_loss\")\n",
        "plt.legend(loc=\"upper right\")\n",
        "plt.xlabel('n epochs')\n",
        "plt.ylabel('val_loss, loss')\n",
        "plt.show()\n",
        "\n",
        "plt.figure()\n",
        "plt.plot(history.history['accuracy'], label=\"accuracy\")\n",
        "plt.plot(history.history['val_accuracy'], label=\"val_accuracy\")\n",
        "plt.legend(loc=\"lower right\")\n",
        "plt.xlabel('n epochs')\n",
        "plt.ylabel('val_accuracy, accuracy')\n",
        "plt.show()"
      ],
      "metadata": {
        "colab": {
          "base_uri": "https://localhost:8080/",
          "height": 553
        },
        "id": "iikVmmCKXYZH",
        "outputId": "0390451d-d78f-47de-fa80-b6e193d0c7ac"
      },
      "execution_count": null,
      "outputs": [
        {
          "output_type": "display_data",
          "data": {
            "text/plain": [
              "<Figure size 432x288 with 1 Axes>"
            ],
            "image/png": "[encoded data removed]"
          },
          "metadata": {
            "needs_background": "light"
          }
        },
        {
          "output_type": "display_data",
          "data": {
            "text/plain": [
              "<Figure size 432x288 with 1 Axes>"
            ],
            "image/png": "[encoded data removed]"
          },
          "metadata": {
            "needs_background": "light"
          }
        }
      ]
    }
  ],
  "metadata": {
    "kernelspec": {
      "display_name": "Python 3",
      "language": "python",
      "name": "python3"
    },
    "language_info": {
      "name": "python",
      "version": "3.10.10"
    },
    "orig_nbformat": 4,
    "colab": {
      "provenance": [],
      "include_colab_link": true
    },
    "accelerator": "GPU",
    "gpuClass": "standard"
  },
  "nbformat": 4,
  "nbformat_minor": 0
}
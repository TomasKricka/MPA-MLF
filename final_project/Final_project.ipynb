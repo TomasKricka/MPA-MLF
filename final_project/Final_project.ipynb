{
  "cells": [
    {
      "cell_type": "markdown",
      "metadata": {
        "id": "view-in-github",
        "colab_type": "text"
      },
      "source": [
        "<a href=\"https://colab.research.google.com/github/TomasKricka/MPA-MLF/blob/main/final_project/Final_project.ipynb\" target=\"_parent\"><img src=\"https://colab.research.google.com/assets/colab-badge.svg\" alt=\"Open In Colab\"/></a>"
      ]
    },
    {
      "cell_type": "markdown",
      "metadata": {
        "id": "uNwrKffjYPnN"
      },
      "source": [
        "# Final project\n",
        "## MPA-MLF\n",
        "**Tomas Kricka**\n"
      ]
    },
    {
      "cell_type": "code",
      "source": [
        "!pip install -q -U keras-tuner"
      ],
      "metadata": {
        "colab": {
          "base_uri": "https://localhost:8080/"
        },
        "id": "E76huJR11rdQ",
        "outputId": "e454a2d7-ab83-4608-ed8a-8725a5907036"
      },
      "execution_count": null,
      "outputs": [
        {
          "output_type": "stream",
          "name": "stdout",
          "text": [
            "\u001b[?25l     \u001b[90m━━━━━━━━━━━━━━━━━━━━━━━━━━━━━━━━━━━━━━━━\u001b[0m \u001b[32m0.0/176.1 kB\u001b[0m \u001b[31m?\u001b[0m eta \u001b[36m-:--:--\u001b[0m\r\u001b[2K     \u001b[90m━━━━━━━━━━━━━━━━━━━━━━━━━━━━━━━━━━━━━━━\u001b[0m \u001b[32m176.1/176.1 kB\u001b[0m \u001b[31m5.7 MB/s\u001b[0m eta \u001b[36m0:00:00\u001b[0m\n",
            "\u001b[?25h"
          ]
        }
      ]
    },
    {
      "cell_type": "code",
      "execution_count": 1,
      "metadata": {
        "id": "bLmTOwOhYhPR"
      },
      "outputs": [],
      "source": [
        "import numpy as np\n",
        "import matplotlib.pyplot as plt\n",
        "import matplotlib\n",
        "import pandas as pd\n",
        "\n",
        "from sklearn.model_selection import train_test_split\n",
        "from keras.models import Sequential\n",
        "from keras.layers import Dense, Flatten, Dropout\n",
        "from keras.optimizers import SGD, RMSprop, Adam, Adadelta, Adagrad, Adamax, Nadam, Ftrl\n",
        "\n",
        "from keras.utils import to_categorical, plot_model, model_to_dot\n",
        "from sklearn.neighbors import KNeighborsClassifier\n"
      ]
    },
    {
      "cell_type": "code",
      "execution_count": 2,
      "metadata": {
        "colab": {
          "base_uri": "https://localhost:8080/"
        },
        "id": "ikppMwb8npB9",
        "outputId": "1c9f656c-e6d4-48eb-9283-903c026fc577"
      },
      "outputs": [
        {
          "output_type": "stream",
          "name": "stdout",
          "text": [
            "Drive already mounted at /content/drive; to attempt to forcibly remount, call drive.mount(\"/content/drive\", force_remount=True).\n"
          ]
        }
      ],
      "source": [
        "from google.colab import drive\n",
        "drive.mount('/content/drive')"
      ]
    },
    {
      "cell_type": "code",
      "execution_count": 3,
      "metadata": {
        "id": "33exPVLzIlc9"
      },
      "outputs": [],
      "source": [
        "x_train = np.load(\"/content/drive/My Drive/MLF/final project/x_train_all_4.npy\")\n",
        "x_test =  np.load(\"/content/drive/My Drive/MLF/final project/x_test_all_4.npy\")\n",
        "y_train = pd.read_csv(\"/content/drive/My Drive/MLF/Final_dataset/Dataset/y_train.csv\")"
      ]
    },
    {
      "cell_type": "code",
      "execution_count": 67,
      "metadata": {
        "colab": {
          "base_uri": "https://localhost:8080/"
        },
        "id": "UcS-JBZiJd-4",
        "outputId": "95e1828b-885d-42ed-8ddd-92a67d591298"
      },
      "outputs": [
        {
          "output_type": "stream",
          "name": "stdout",
          "text": [
            "(3549, 44, 52)\n",
            "(8279, 44, 52)\n",
            "(8279, 2)\n",
            "43007.0\n",
            "43967.0\n",
            "id        8278\n",
            "target       3\n",
            "dtype: int64\n"
          ]
        }
      ],
      "source": [
        "print(x_test.shape)\n",
        "print(x_train.shape)\n",
        "print(y_train.shape)\n",
        "\n",
        "print(x_train.max())\n",
        "print(x_test.max())\n",
        "print(y_train.max())"
      ]
    },
    {
      "cell_type": "code",
      "execution_count": 4,
      "metadata": {
        "id": "SeuWNu8jkeQh"
      },
      "outputs": [],
      "source": [
        "x_test_pred = x_test\n",
        "\n",
        "clasess = 3\n",
        "\n",
        "x_train, x_test, y_train, y_test = train_test_split(x_train,y_train, test_size=0.2)\n",
        "y_train = y_train.drop(\"id\", axis = 1)\n",
        "y_test = y_test.drop(\"id\", axis = 1)"
      ]
    },
    {
      "cell_type": "code",
      "execution_count": 5,
      "metadata": {
        "id": "x6YRS73nMsVT"
      },
      "outputs": [],
      "source": [
        "#x_train_scaled = ((x_train-x_train.min())/(x_train.max()-x_train.min()))\n",
        "x_train_scaled = x_train.astype('float32') / x_train.max()\n",
        "y_train = y_train - 1\n",
        "y_train_encoded = to_categorical(y_train, num_classes=clasess)"
      ]
    },
    {
      "cell_type": "code",
      "source": [
        "#plt.figure()\n",
        "#plt.plot(history.history['loss'], label=\"loss\")\n",
        "#plt.plot(history.history['val_loss'], label=\"val_loss\")\n",
        "#plt.legend(loc=\"upper right\")\n",
        "#plt.xlabel('n epochs')\n",
        "#plt.ylabel('val_loss, loss')\n",
        "#plt.show()\n",
        "\n",
        "x_train_scaled_res = np.reshape(x_train_scaled, (1,1,15153424))\n",
        "x_mat = []\n",
        "\n",
        "for x in range(15153424):\n",
        "  x_mat.append(x)\n",
        "\n",
        "#x_mat_res = np.reshape(x_mat, (1,1,15153424))\n",
        "\n",
        "plt.figure()\n",
        "plt.scatter(x_mat,x_train_scaled_res)\n",
        "\n",
        "plt.show()\n",
        "\n",
        "\n"
      ],
      "metadata": {
        "colab": {
          "base_uri": "https://localhost:8080/",
          "height": 448
        },
        "id": "C7y-Z5sIfpMb",
        "outputId": "9385ce9a-3318-4d58-fa61-8c5a7a0f29aa"
      },
      "execution_count": 26,
      "outputs": [
        {
          "output_type": "display_data",
          "data": {
            "text/plain": [
              "<Figure size 640x480 with 1 Axes>"
            ],
            "image/png": "[encoded data removed]"
          },
          "metadata": {}
        }
      ]
    },
    {
      "cell_type": "code",
      "execution_count": 111,
      "metadata": {
        "colab": {
          "base_uri": "https://localhost:8080/"
        },
        "id": "ORPlISgoM2qv",
        "outputId": "4a5f008e-1afb-453b-8bf2-7d10c4fe5957"
      },
      "outputs": [
        {
          "output_type": "stream",
          "name": "stdout",
          "text": [
            "Model: \"sequential_13\"\n",
            "_________________________________________________________________\n",
            " Layer (type)                Output Shape              Param #   \n",
            "=================================================================\n",
            " flatten_13 (Flatten)        (None, 2288)              0         \n",
            "                                                                 \n",
            " dense_42 (Dense)            (None, 1024)              2343936   \n",
            "                                                                 \n",
            " dense_43 (Dense)            (None, 512)               524800    \n",
            "                                                                 \n",
            " dense_44 (Dense)            (None, 3)                 1539      \n",
            "                                                                 \n",
            "=================================================================\n",
            "Total params: 2,870,275\n",
            "Trainable params: 2,870,275\n",
            "Non-trainable params: 0\n",
            "_________________________________________________________________\n"
          ]
        }
      ],
      "source": [
        "model = Sequential()\n",
        "model.add(Flatten(input_shape=(44, 52)))      \n",
        "model.add(Dense(1024, activation='relu'))\n",
        "#model.add(Dense(1024, activation='relu'))\n",
        "model.add(Dense(512, activation='relu'))\n",
        "model.add(Dense(clasess, activation='softmax'))\n",
        "\n",
        "model.summary()"
      ]
    },
    {
      "cell_type": "code",
      "execution_count": 112,
      "metadata": {
        "id": "3cq72K7XebHH"
      },
      "outputs": [],
      "source": [
        "optimizer = Adam(learning_rate = 0.01)\n",
        "model.compile(loss='categorical_crossentropy', optimizer=optimizer, metrics=['accuracy'])"
      ]
    },
    {
      "cell_type": "code",
      "execution_count": 113,
      "metadata": {
        "colab": {
          "base_uri": "https://localhost:8080/"
        },
        "id": "Cp85OIW-WlgW",
        "outputId": "6dfed5f7-3a7a-4240-ffc0-2c423fcb0cdc"
      },
      "outputs": [
        {
          "output_type": "stream",
          "name": "stdout",
          "text": [
            "Epoch 1/150\n",
            "83/83 [==============================] - 1s 6ms/step - loss: 0.6828 - accuracy: 0.6842 - val_loss: 0.4682 - val_accuracy: 0.8272\n",
            "Epoch 2/150\n",
            "83/83 [==============================] - 0s 4ms/step - loss: 0.3488 - accuracy: 0.8654 - val_loss: 0.3533 - val_accuracy: 0.8679\n",
            "Epoch 3/150\n",
            "83/83 [==============================] - 0s 4ms/step - loss: 0.2473 - accuracy: 0.9109 - val_loss: 0.2820 - val_accuracy: 0.8898\n",
            "Epoch 4/150\n",
            "83/83 [==============================] - 0s 4ms/step - loss: 0.2077 - accuracy: 0.9198 - val_loss: 0.3213 - val_accuracy: 0.8845\n",
            "Epoch 5/150\n",
            "83/83 [==============================] - 0s 4ms/step - loss: 0.1411 - accuracy: 0.9490 - val_loss: 0.2063 - val_accuracy: 0.9313\n",
            "Epoch 6/150\n",
            "83/83 [==============================] - 0s 4ms/step - loss: 0.0983 - accuracy: 0.9645 - val_loss: 0.1917 - val_accuracy: 0.9366\n",
            "Epoch 7/150\n",
            "83/83 [==============================] - 0s 4ms/step - loss: 0.0693 - accuracy: 0.9758 - val_loss: 0.1514 - val_accuracy: 0.9547\n",
            "Epoch 8/150\n",
            "83/83 [==============================] - 0s 4ms/step - loss: 0.0623 - accuracy: 0.9790 - val_loss: 0.1682 - val_accuracy: 0.9540\n",
            "Epoch 9/150\n",
            "83/83 [==============================] - 0s 4ms/step - loss: 0.1158 - accuracy: 0.9615 - val_loss: 0.1674 - val_accuracy: 0.9464\n",
            "Epoch 10/150\n",
            "83/83 [==============================] - 0s 4ms/step - loss: 0.0264 - accuracy: 0.9926 - val_loss: 0.1783 - val_accuracy: 0.9396\n",
            "Epoch 11/150\n",
            "83/83 [==============================] - 0s 4ms/step - loss: 0.0257 - accuracy: 0.9906 - val_loss: 0.1462 - val_accuracy: 0.9577\n",
            "Epoch 12/150\n",
            "83/83 [==============================] - 0s 4ms/step - loss: 0.0307 - accuracy: 0.9904 - val_loss: 0.1573 - val_accuracy: 0.9509\n",
            "Epoch 13/150\n",
            "83/83 [==============================] - 0s 4ms/step - loss: 0.0277 - accuracy: 0.9915 - val_loss: 0.1295 - val_accuracy: 0.9623\n",
            "Epoch 14/150\n",
            "83/83 [==============================] - 0s 5ms/step - loss: 0.0073 - accuracy: 0.9979 - val_loss: 0.1097 - val_accuracy: 0.9630\n",
            "Epoch 15/150\n",
            "83/83 [==============================] - 0s 5ms/step - loss: 0.0017 - accuracy: 1.0000 - val_loss: 0.1248 - val_accuracy: 0.9645\n",
            "Epoch 16/150\n",
            "83/83 [==============================] - 0s 5ms/step - loss: 8.1574e-04 - accuracy: 1.0000 - val_loss: 0.1145 - val_accuracy: 0.9691\n",
            "Epoch 17/150\n",
            "83/83 [==============================] - 1s 6ms/step - loss: 5.5774e-04 - accuracy: 1.0000 - val_loss: 0.1156 - val_accuracy: 0.9706\n",
            "Epoch 18/150\n",
            "83/83 [==============================] - 1s 6ms/step - loss: 4.2239e-04 - accuracy: 1.0000 - val_loss: 0.1156 - val_accuracy: 0.9713\n",
            "Epoch 19/150\n",
            "83/83 [==============================] - 0s 6ms/step - loss: 3.6012e-04 - accuracy: 1.0000 - val_loss: 0.1223 - val_accuracy: 0.9698\n",
            "Epoch 20/150\n",
            "83/83 [==============================] - 1s 6ms/step - loss: 2.8807e-04 - accuracy: 1.0000 - val_loss: 0.1197 - val_accuracy: 0.9691\n",
            "Epoch 21/150\n",
            "83/83 [==============================] - 0s 4ms/step - loss: 2.3369e-04 - accuracy: 1.0000 - val_loss: 0.1274 - val_accuracy: 0.9653\n",
            "Epoch 22/150\n",
            "83/83 [==============================] - 0s 4ms/step - loss: 1.8022e-04 - accuracy: 1.0000 - val_loss: 0.1249 - val_accuracy: 0.9691\n",
            "Epoch 23/150\n",
            "83/83 [==============================] - 0s 4ms/step - loss: 1.4263e-04 - accuracy: 1.0000 - val_loss: 0.1341 - val_accuracy: 0.9645\n",
            "Epoch 24/150\n",
            "83/83 [==============================] - 0s 4ms/step - loss: 1.1447e-04 - accuracy: 1.0000 - val_loss: 0.1319 - val_accuracy: 0.9698\n",
            "Epoch 25/150\n",
            "83/83 [==============================] - 0s 5ms/step - loss: 9.5811e-05 - accuracy: 1.0000 - val_loss: 0.1319 - val_accuracy: 0.9668\n",
            "Epoch 26/150\n",
            "83/83 [==============================] - 0s 4ms/step - loss: 8.0533e-05 - accuracy: 1.0000 - val_loss: 0.1355 - val_accuracy: 0.9683\n",
            "Epoch 27/150\n",
            "83/83 [==============================] - 0s 4ms/step - loss: 7.3781e-05 - accuracy: 1.0000 - val_loss: 0.1358 - val_accuracy: 0.9675\n",
            "Epoch 28/150\n",
            "83/83 [==============================] - 0s 4ms/step - loss: 6.3336e-05 - accuracy: 1.0000 - val_loss: 0.1390 - val_accuracy: 0.9675\n",
            "Epoch 29/150\n",
            "83/83 [==============================] - 0s 4ms/step - loss: 6.0129e-05 - accuracy: 1.0000 - val_loss: 0.1400 - val_accuracy: 0.9683\n",
            "Epoch 30/150\n",
            "83/83 [==============================] - 0s 4ms/step - loss: 5.1467e-05 - accuracy: 1.0000 - val_loss: 0.1405 - val_accuracy: 0.9683\n",
            "Epoch 31/150\n",
            "83/83 [==============================] - 0s 5ms/step - loss: 4.7517e-05 - accuracy: 1.0000 - val_loss: 0.1416 - val_accuracy: 0.9675\n",
            "Epoch 32/150\n",
            "83/83 [==============================] - 0s 4ms/step - loss: 4.3579e-05 - accuracy: 1.0000 - val_loss: 0.1471 - val_accuracy: 0.9675\n",
            "Epoch 33/150\n",
            "83/83 [==============================] - 0s 4ms/step - loss: 3.9547e-05 - accuracy: 1.0000 - val_loss: 0.1476 - val_accuracy: 0.9683\n",
            "Epoch 34/150\n",
            "83/83 [==============================] - 0s 4ms/step - loss: 3.7238e-05 - accuracy: 1.0000 - val_loss: 0.1462 - val_accuracy: 0.9675\n",
            "Epoch 35/150\n",
            "83/83 [==============================] - 0s 4ms/step - loss: 3.4096e-05 - accuracy: 1.0000 - val_loss: 0.1496 - val_accuracy: 0.9668\n",
            "Epoch 36/150\n",
            "83/83 [==============================] - 0s 4ms/step - loss: 3.1691e-05 - accuracy: 1.0000 - val_loss: 0.1487 - val_accuracy: 0.9683\n",
            "Epoch 37/150\n",
            "83/83 [==============================] - 0s 4ms/step - loss: 2.9276e-05 - accuracy: 1.0000 - val_loss: 0.1508 - val_accuracy: 0.9668\n",
            "Epoch 38/150\n",
            "83/83 [==============================] - 0s 4ms/step - loss: 2.7448e-05 - accuracy: 1.0000 - val_loss: 0.1510 - val_accuracy: 0.9683\n",
            "Epoch 39/150\n",
            "83/83 [==============================] - 0s 4ms/step - loss: 2.5716e-05 - accuracy: 1.0000 - val_loss: 0.1519 - val_accuracy: 0.9675\n",
            "Epoch 40/150\n",
            "83/83 [==============================] - 0s 4ms/step - loss: 2.3772e-05 - accuracy: 1.0000 - val_loss: 0.1530 - val_accuracy: 0.9683\n",
            "Epoch 41/150\n",
            "83/83 [==============================] - 0s 4ms/step - loss: 2.2213e-05 - accuracy: 1.0000 - val_loss: 0.1536 - val_accuracy: 0.9683\n",
            "Epoch 42/150\n",
            "83/83 [==============================] - 0s 4ms/step - loss: 2.0352e-05 - accuracy: 1.0000 - val_loss: 0.1548 - val_accuracy: 0.9691\n",
            "Epoch 43/150\n",
            "83/83 [==============================] - 0s 4ms/step - loss: 1.9514e-05 - accuracy: 1.0000 - val_loss: 0.1571 - val_accuracy: 0.9675\n",
            "Epoch 44/150\n",
            "83/83 [==============================] - 0s 4ms/step - loss: 1.8307e-05 - accuracy: 1.0000 - val_loss: 0.1568 - val_accuracy: 0.9675\n",
            "Epoch 45/150\n",
            "83/83 [==============================] - 0s 4ms/step - loss: 1.7026e-05 - accuracy: 1.0000 - val_loss: 0.1574 - val_accuracy: 0.9683\n",
            "Epoch 46/150\n",
            "83/83 [==============================] - 0s 4ms/step - loss: 1.6042e-05 - accuracy: 1.0000 - val_loss: 0.1595 - val_accuracy: 0.9683\n",
            "Epoch 47/150\n",
            "83/83 [==============================] - 0s 4ms/step - loss: 1.4953e-05 - accuracy: 1.0000 - val_loss: 0.1592 - val_accuracy: 0.9683\n",
            "Epoch 48/150\n",
            "83/83 [==============================] - 0s 5ms/step - loss: 1.4179e-05 - accuracy: 1.0000 - val_loss: 0.1628 - val_accuracy: 0.9660\n",
            "Epoch 49/150\n",
            "83/83 [==============================] - 0s 5ms/step - loss: 1.3308e-05 - accuracy: 1.0000 - val_loss: 0.1615 - val_accuracy: 0.9683\n",
            "Epoch 50/150\n",
            "83/83 [==============================] - 0s 5ms/step - loss: 1.2638e-05 - accuracy: 1.0000 - val_loss: 0.1630 - val_accuracy: 0.9675\n",
            "Epoch 51/150\n",
            "83/83 [==============================] - 0s 5ms/step - loss: 1.1736e-05 - accuracy: 1.0000 - val_loss: 0.1627 - val_accuracy: 0.9675\n",
            "Epoch 52/150\n",
            "83/83 [==============================] - 1s 6ms/step - loss: 1.1375e-05 - accuracy: 1.0000 - val_loss: 0.1648 - val_accuracy: 0.9668\n",
            "Epoch 53/150\n",
            "83/83 [==============================] - 1s 7ms/step - loss: 1.0428e-05 - accuracy: 1.0000 - val_loss: 0.1662 - val_accuracy: 0.9668\n",
            "Epoch 54/150\n",
            "83/83 [==============================] - 0s 6ms/step - loss: 9.9699e-06 - accuracy: 1.0000 - val_loss: 0.1684 - val_accuracy: 0.9660\n",
            "Epoch 55/150\n",
            "83/83 [==============================] - 0s 5ms/step - loss: 9.5346e-06 - accuracy: 1.0000 - val_loss: 0.1675 - val_accuracy: 0.9660\n",
            "Epoch 56/150\n",
            "83/83 [==============================] - 0s 5ms/step - loss: 8.8200e-06 - accuracy: 1.0000 - val_loss: 0.1683 - val_accuracy: 0.9668\n",
            "Epoch 57/150\n",
            "83/83 [==============================] - 0s 4ms/step - loss: 8.3797e-06 - accuracy: 1.0000 - val_loss: 0.1685 - val_accuracy: 0.9675\n",
            "Epoch 58/150\n",
            "83/83 [==============================] - 0s 4ms/step - loss: 7.8960e-06 - accuracy: 1.0000 - val_loss: 0.1710 - val_accuracy: 0.9668\n",
            "Epoch 59/150\n",
            "83/83 [==============================] - 0s 4ms/step - loss: 7.5353e-06 - accuracy: 1.0000 - val_loss: 0.1701 - val_accuracy: 0.9675\n",
            "Epoch 60/150\n",
            "83/83 [==============================] - 0s 4ms/step - loss: 7.1195e-06 - accuracy: 1.0000 - val_loss: 0.1714 - val_accuracy: 0.9675\n",
            "Epoch 61/150\n",
            "83/83 [==============================] - 0s 4ms/step - loss: 6.6891e-06 - accuracy: 1.0000 - val_loss: 0.1742 - val_accuracy: 0.9660\n",
            "Epoch 62/150\n",
            "83/83 [==============================] - 0s 4ms/step - loss: 6.3663e-06 - accuracy: 1.0000 - val_loss: 0.1732 - val_accuracy: 0.9668\n",
            "Epoch 63/150\n",
            "83/83 [==============================] - 0s 4ms/step - loss: 5.9878e-06 - accuracy: 1.0000 - val_loss: 0.1740 - val_accuracy: 0.9675\n",
            "Epoch 64/150\n",
            "83/83 [==============================] - 0s 4ms/step - loss: 5.6688e-06 - accuracy: 1.0000 - val_loss: 0.1758 - val_accuracy: 0.9668\n",
            "Epoch 65/150\n",
            "83/83 [==============================] - 0s 4ms/step - loss: 5.3170e-06 - accuracy: 1.0000 - val_loss: 0.1753 - val_accuracy: 0.9675\n",
            "Epoch 66/150\n",
            "83/83 [==============================] - 0s 4ms/step - loss: 5.0295e-06 - accuracy: 1.0000 - val_loss: 0.1756 - val_accuracy: 0.9683\n",
            "Epoch 67/150\n",
            "83/83 [==============================] - 0s 4ms/step - loss: 4.8753e-06 - accuracy: 1.0000 - val_loss: 0.1773 - val_accuracy: 0.9668\n",
            "Epoch 68/150\n",
            "83/83 [==============================] - 0s 4ms/step - loss: 4.5390e-06 - accuracy: 1.0000 - val_loss: 0.1769 - val_accuracy: 0.9675\n",
            "Epoch 69/150\n",
            "83/83 [==============================] - 0s 4ms/step - loss: 4.2819e-06 - accuracy: 1.0000 - val_loss: 0.1779 - val_accuracy: 0.9675\n",
            "Epoch 70/150\n",
            "83/83 [==============================] - 0s 4ms/step - loss: 4.0805e-06 - accuracy: 1.0000 - val_loss: 0.1778 - val_accuracy: 0.9683\n",
            "Epoch 71/150\n",
            "83/83 [==============================] - 0s 4ms/step - loss: 3.8574e-06 - accuracy: 1.0000 - val_loss: 0.1798 - val_accuracy: 0.9668\n",
            "Epoch 72/150\n",
            "83/83 [==============================] - 0s 4ms/step - loss: 3.6551e-06 - accuracy: 1.0000 - val_loss: 0.1800 - val_accuracy: 0.9668\n",
            "Epoch 73/150\n",
            "83/83 [==============================] - 0s 4ms/step - loss: 3.4764e-06 - accuracy: 1.0000 - val_loss: 0.1814 - val_accuracy: 0.9668\n",
            "Epoch 74/150\n",
            "83/83 [==============================] - 0s 4ms/step - loss: 3.3144e-06 - accuracy: 1.0000 - val_loss: 0.1808 - val_accuracy: 0.9675\n",
            "Epoch 75/150\n",
            "83/83 [==============================] - 0s 4ms/step - loss: 3.2274e-06 - accuracy: 1.0000 - val_loss: 0.1802 - val_accuracy: 0.9675\n",
            "Epoch 76/150\n",
            "83/83 [==============================] - 1s 8ms/step - loss: 2.9818e-06 - accuracy: 1.0000 - val_loss: 0.1831 - val_accuracy: 0.9668\n",
            "Epoch 77/150\n",
            "83/83 [==============================] - 0s 6ms/step - loss: 2.7931e-06 - accuracy: 1.0000 - val_loss: 0.1826 - val_accuracy: 0.9683\n",
            "Epoch 78/150\n",
            "83/83 [==============================] - 1s 7ms/step - loss: 2.6362e-06 - accuracy: 1.0000 - val_loss: 0.1843 - val_accuracy: 0.9668\n",
            "Epoch 79/150\n",
            "83/83 [==============================] - 0s 6ms/step - loss: 2.5137e-06 - accuracy: 1.0000 - val_loss: 0.1840 - val_accuracy: 0.9675\n",
            "Epoch 80/150\n",
            "83/83 [==============================] - 1s 7ms/step - loss: 2.4180e-06 - accuracy: 1.0000 - val_loss: 0.1846 - val_accuracy: 0.9683\n",
            "Epoch 81/150\n",
            "83/83 [==============================] - 1s 10ms/step - loss: 2.2664e-06 - accuracy: 1.0000 - val_loss: 0.1862 - val_accuracy: 0.9668\n",
            "Epoch 82/150\n",
            "83/83 [==============================] - 0s 5ms/step - loss: 2.1592e-06 - accuracy: 1.0000 - val_loss: 0.1866 - val_accuracy: 0.9675\n",
            "Epoch 83/150\n",
            "83/83 [==============================] - 0s 5ms/step - loss: 2.0310e-06 - accuracy: 1.0000 - val_loss: 0.1881 - val_accuracy: 0.9660\n",
            "Epoch 84/150\n",
            "83/83 [==============================] - 0s 5ms/step - loss: 1.9382e-06 - accuracy: 1.0000 - val_loss: 0.1876 - val_accuracy: 0.9668\n",
            "Epoch 85/150\n",
            "83/83 [==============================] - 0s 5ms/step - loss: 1.8706e-06 - accuracy: 1.0000 - val_loss: 0.1877 - val_accuracy: 0.9675\n",
            "Epoch 86/150\n",
            "83/83 [==============================] - 0s 5ms/step - loss: 1.7384e-06 - accuracy: 1.0000 - val_loss: 0.1895 - val_accuracy: 0.9660\n",
            "Epoch 87/150\n",
            "83/83 [==============================] - 1s 6ms/step - loss: 1.6258e-06 - accuracy: 1.0000 - val_loss: 0.1869 - val_accuracy: 0.9675\n",
            "Epoch 88/150\n",
            "83/83 [==============================] - 0s 5ms/step - loss: 1.5786e-06 - accuracy: 1.0000 - val_loss: 0.1905 - val_accuracy: 0.9668\n",
            "Epoch 89/150\n",
            "83/83 [==============================] - 0s 4ms/step - loss: 1.4847e-06 - accuracy: 1.0000 - val_loss: 0.1893 - val_accuracy: 0.9683\n",
            "Epoch 90/150\n",
            "83/83 [==============================] - 0s 4ms/step - loss: 1.3959e-06 - accuracy: 1.0000 - val_loss: 0.1908 - val_accuracy: 0.9675\n",
            "Epoch 91/150\n",
            "83/83 [==============================] - 0s 4ms/step - loss: 1.3523e-06 - accuracy: 1.0000 - val_loss: 0.1920 - val_accuracy: 0.9675\n",
            "Epoch 92/150\n",
            "83/83 [==============================] - 0s 4ms/step - loss: 1.2656e-06 - accuracy: 1.0000 - val_loss: 0.1922 - val_accuracy: 0.9675\n",
            "Epoch 93/150\n",
            "83/83 [==============================] - 0s 4ms/step - loss: 1.2003e-06 - accuracy: 1.0000 - val_loss: 0.1925 - val_accuracy: 0.9675\n",
            "Epoch 94/150\n",
            "83/83 [==============================] - 0s 4ms/step - loss: 1.1311e-06 - accuracy: 1.0000 - val_loss: 0.1945 - val_accuracy: 0.9668\n",
            "Epoch 95/150\n",
            "83/83 [==============================] - 0s 4ms/step - loss: 1.0816e-06 - accuracy: 1.0000 - val_loss: 0.1944 - val_accuracy: 0.9675\n",
            "Epoch 96/150\n",
            "83/83 [==============================] - 0s 4ms/step - loss: 1.0305e-06 - accuracy: 1.0000 - val_loss: 0.1942 - val_accuracy: 0.9675\n",
            "Epoch 97/150\n",
            "83/83 [==============================] - 0s 4ms/step - loss: 9.7022e-07 - accuracy: 1.0000 - val_loss: 0.1953 - val_accuracy: 0.9675\n",
            "Epoch 98/150\n",
            "83/83 [==============================] - 0s 4ms/step - loss: 9.1519e-07 - accuracy: 1.0000 - val_loss: 0.1954 - val_accuracy: 0.9675\n",
            "Epoch 99/150\n",
            "83/83 [==============================] - 0s 4ms/step - loss: 8.8069e-07 - accuracy: 1.0000 - val_loss: 0.1962 - val_accuracy: 0.9675\n",
            "Epoch 100/150\n",
            "83/83 [==============================] - 0s 4ms/step - loss: 8.3380e-07 - accuracy: 1.0000 - val_loss: 0.1969 - val_accuracy: 0.9675\n",
            "Epoch 101/150\n",
            "83/83 [==============================] - 0s 4ms/step - loss: 7.8538e-07 - accuracy: 1.0000 - val_loss: 0.1984 - val_accuracy: 0.9675\n",
            "Epoch 102/150\n",
            "83/83 [==============================] - 0s 4ms/step - loss: 7.5341e-07 - accuracy: 1.0000 - val_loss: 0.1986 - val_accuracy: 0.9675\n",
            "Epoch 103/150\n",
            "83/83 [==============================] - 0s 4ms/step - loss: 7.0335e-07 - accuracy: 1.0000 - val_loss: 0.1978 - val_accuracy: 0.9675\n",
            "Epoch 104/150\n",
            "83/83 [==============================] - 0s 4ms/step - loss: 6.7551e-07 - accuracy: 1.0000 - val_loss: 0.1989 - val_accuracy: 0.9675\n",
            "Epoch 105/150\n",
            "83/83 [==============================] - 0s 4ms/step - loss: 6.4260e-07 - accuracy: 1.0000 - val_loss: 0.1995 - val_accuracy: 0.9675\n",
            "Epoch 106/150\n",
            "83/83 [==============================] - 0s 4ms/step - loss: 6.1206e-07 - accuracy: 1.0000 - val_loss: 0.2000 - val_accuracy: 0.9675\n",
            "Epoch 107/150\n",
            "83/83 [==============================] - 0s 4ms/step - loss: 5.7179e-07 - accuracy: 1.0000 - val_loss: 0.2000 - val_accuracy: 0.9675\n",
            "Epoch 108/150\n",
            "83/83 [==============================] - 0s 4ms/step - loss: 5.5509e-07 - accuracy: 1.0000 - val_loss: 0.2006 - val_accuracy: 0.9675\n",
            "Epoch 109/150\n",
            "83/83 [==============================] - 0s 4ms/step - loss: 5.1464e-07 - accuracy: 1.0000 - val_loss: 0.2006 - val_accuracy: 0.9675\n",
            "Epoch 110/150\n",
            "83/83 [==============================] - 0s 4ms/step - loss: 4.9402e-07 - accuracy: 1.0000 - val_loss: 0.2044 - val_accuracy: 0.9668\n",
            "Epoch 111/150\n",
            "83/83 [==============================] - 0s 4ms/step - loss: 4.6932e-07 - accuracy: 1.0000 - val_loss: 0.2021 - val_accuracy: 0.9675\n",
            "Epoch 112/150\n",
            "83/83 [==============================] - 0s 4ms/step - loss: 4.4243e-07 - accuracy: 1.0000 - val_loss: 0.2026 - val_accuracy: 0.9675\n",
            "Epoch 113/150\n",
            "83/83 [==============================] - 0s 4ms/step - loss: 4.2070e-07 - accuracy: 1.0000 - val_loss: 0.2042 - val_accuracy: 0.9675\n",
            "Epoch 114/150\n",
            "83/83 [==============================] - 0s 4ms/step - loss: 3.9833e-07 - accuracy: 1.0000 - val_loss: 0.2054 - val_accuracy: 0.9668\n",
            "Epoch 115/150\n",
            "83/83 [==============================] - 0s 4ms/step - loss: 3.7581e-07 - accuracy: 1.0000 - val_loss: 0.2065 - val_accuracy: 0.9668\n",
            "Epoch 116/150\n",
            "83/83 [==============================] - 0s 5ms/step - loss: 3.6226e-07 - accuracy: 1.0000 - val_loss: 0.2055 - val_accuracy: 0.9668\n",
            "Epoch 117/150\n",
            "83/83 [==============================] - 0s 5ms/step - loss: 3.4336e-07 - accuracy: 1.0000 - val_loss: 0.2048 - val_accuracy: 0.9675\n",
            "Epoch 118/150\n",
            "83/83 [==============================] - 0s 5ms/step - loss: 3.2421e-07 - accuracy: 1.0000 - val_loss: 0.2048 - val_accuracy: 0.9691\n",
            "Epoch 119/150\n",
            "83/83 [==============================] - 0s 5ms/step - loss: 3.1179e-07 - accuracy: 1.0000 - val_loss: 0.2070 - val_accuracy: 0.9675\n",
            "Epoch 120/150\n",
            "83/83 [==============================] - 0s 5ms/step - loss: 2.9539e-07 - accuracy: 1.0000 - val_loss: 0.2067 - val_accuracy: 0.9668\n",
            "Epoch 121/150\n",
            "83/83 [==============================] - 0s 5ms/step - loss: 2.7921e-07 - accuracy: 1.0000 - val_loss: 0.2078 - val_accuracy: 0.9668\n",
            "Epoch 122/150\n",
            "83/83 [==============================] - 0s 5ms/step - loss: 2.6639e-07 - accuracy: 1.0000 - val_loss: 0.2085 - val_accuracy: 0.9675\n",
            "Epoch 123/150\n",
            "83/83 [==============================] - 0s 5ms/step - loss: 2.5329e-07 - accuracy: 1.0000 - val_loss: 0.2093 - val_accuracy: 0.9675\n",
            "Epoch 124/150\n",
            "83/83 [==============================] - 0s 5ms/step - loss: 2.4159e-07 - accuracy: 1.0000 - val_loss: 0.2096 - val_accuracy: 0.9683\n",
            "Epoch 125/150\n",
            "83/83 [==============================] - 0s 4ms/step - loss: 2.3196e-07 - accuracy: 1.0000 - val_loss: 0.2091 - val_accuracy: 0.9683\n",
            "Epoch 126/150\n",
            "83/83 [==============================] - 0s 4ms/step - loss: 2.1877e-07 - accuracy: 1.0000 - val_loss: 0.2104 - val_accuracy: 0.9668\n",
            "Epoch 127/150\n",
            "83/83 [==============================] - 0s 4ms/step - loss: 2.0777e-07 - accuracy: 1.0000 - val_loss: 0.2101 - val_accuracy: 0.9675\n",
            "Epoch 128/150\n",
            "83/83 [==============================] - 0s 5ms/step - loss: 1.9870e-07 - accuracy: 1.0000 - val_loss: 0.2113 - val_accuracy: 0.9668\n",
            "Epoch 129/150\n",
            "83/83 [==============================] - 0s 5ms/step - loss: 1.8795e-07 - accuracy: 1.0000 - val_loss: 0.2131 - val_accuracy: 0.9675\n",
            "Epoch 130/150\n",
            "83/83 [==============================] - 0s 4ms/step - loss: 1.8187e-07 - accuracy: 1.0000 - val_loss: 0.2125 - val_accuracy: 0.9683\n",
            "Epoch 131/150\n",
            "83/83 [==============================] - 0s 4ms/step - loss: 1.7035e-07 - accuracy: 1.0000 - val_loss: 0.2125 - val_accuracy: 0.9675\n",
            "Epoch 132/150\n",
            "83/83 [==============================] - 0s 5ms/step - loss: 1.6387e-07 - accuracy: 1.0000 - val_loss: 0.2133 - val_accuracy: 0.9683\n",
            "Epoch 133/150\n",
            "83/83 [==============================] - 0s 4ms/step - loss: 1.5710e-07 - accuracy: 1.0000 - val_loss: 0.2143 - val_accuracy: 0.9675\n",
            "Epoch 134/150\n",
            "83/83 [==============================] - 0s 4ms/step - loss: 1.4743e-07 - accuracy: 1.0000 - val_loss: 0.2145 - val_accuracy: 0.9675\n",
            "Epoch 135/150\n",
            "83/83 [==============================] - 0s 4ms/step - loss: 1.4205e-07 - accuracy: 1.0000 - val_loss: 0.2161 - val_accuracy: 0.9668\n",
            "Epoch 136/150\n",
            "83/83 [==============================] - 0s 4ms/step - loss: 1.3647e-07 - accuracy: 1.0000 - val_loss: 0.2148 - val_accuracy: 0.9683\n",
            "Epoch 137/150\n",
            "83/83 [==============================] - 0s 4ms/step - loss: 1.2699e-07 - accuracy: 1.0000 - val_loss: 0.2162 - val_accuracy: 0.9668\n",
            "Epoch 138/150\n",
            "83/83 [==============================] - 0s 4ms/step - loss: 1.2135e-07 - accuracy: 1.0000 - val_loss: 0.2168 - val_accuracy: 0.9683\n",
            "Epoch 139/150\n",
            "83/83 [==============================] - 0s 4ms/step - loss: 1.1622e-07 - accuracy: 1.0000 - val_loss: 0.2168 - val_accuracy: 0.9683\n",
            "Epoch 140/150\n",
            "83/83 [==============================] - 0s 4ms/step - loss: 1.1073e-07 - accuracy: 1.0000 - val_loss: 0.2168 - val_accuracy: 0.9683\n",
            "Epoch 141/150\n",
            "83/83 [==============================] - 0s 4ms/step - loss: 1.0584e-07 - accuracy: 1.0000 - val_loss: 0.2170 - val_accuracy: 0.9683\n",
            "Epoch 142/150\n",
            "83/83 [==============================] - 0s 4ms/step - loss: 1.0121e-07 - accuracy: 1.0000 - val_loss: 0.2184 - val_accuracy: 0.9683\n",
            "Epoch 143/150\n",
            "83/83 [==============================] - 0s 4ms/step - loss: 9.6101e-08 - accuracy: 1.0000 - val_loss: 0.2192 - val_accuracy: 0.9683\n",
            "Epoch 144/150\n",
            "83/83 [==============================] - 0s 4ms/step - loss: 9.2253e-08 - accuracy: 1.0000 - val_loss: 0.2194 - val_accuracy: 0.9675\n",
            "Epoch 145/150\n",
            "83/83 [==============================] - 0s 4ms/step - loss: 8.7191e-08 - accuracy: 1.0000 - val_loss: 0.2207 - val_accuracy: 0.9675\n",
            "Epoch 146/150\n",
            "83/83 [==============================] - 0s 4ms/step - loss: 8.3793e-08 - accuracy: 1.0000 - val_loss: 0.2197 - val_accuracy: 0.9683\n",
            "Epoch 147/150\n",
            "83/83 [==============================] - 0s 4ms/step - loss: 8.0328e-08 - accuracy: 1.0000 - val_loss: 0.2206 - val_accuracy: 0.9683\n",
            "Epoch 148/150\n",
            "83/83 [==============================] - 0s 4ms/step - loss: 7.5828e-08 - accuracy: 1.0000 - val_loss: 0.2219 - val_accuracy: 0.9683\n",
            "Epoch 149/150\n",
            "83/83 [==============================] - 0s 4ms/step - loss: 7.2520e-08 - accuracy: 1.0000 - val_loss: 0.2206 - val_accuracy: 0.9683\n",
            "Epoch 150/150\n",
            "83/83 [==============================] - 0s 4ms/step - loss: 6.9550e-08 - accuracy: 1.0000 - val_loss: 0.2211 - val_accuracy: 0.9683\n"
          ]
        }
      ],
      "source": [
        "history = model.fit(x_train_scaled, y_train_encoded, epochs=150, batch_size=64, validation_split = 0.2)"
      ]
    },
    {
      "cell_type": "code",
      "execution_count": 114,
      "metadata": {
        "colab": {
          "base_uri": "https://localhost:8080/"
        },
        "id": "8CD606e5enxp",
        "outputId": "cdcfb42f-dd6d-494b-aae4-490e9a1eb4d2"
      },
      "outputs": [
        {
          "output_type": "stream",
          "name": "stdout",
          "text": [
            "Test loss: 0.29362398386001587\n",
            "Test accuracy: 96.55796885490417 %\n",
            "(1656, 3)\n"
          ]
        }
      ],
      "source": [
        "#x_test_scaled = abs((x_test-x_test.min())/(x_test.max()-x_test.min()))\n",
        "x_test_scaled = x_test.astype('float32') / x_test.max()\n",
        "y_test = y_test - 1\n",
        "y_test_encoded = to_categorical(y_test, num_classes=clasess)\n",
        "\n",
        "score = model.evaluate(x_test_scaled, y_test_encoded, verbose=0)\n",
        "print('Test loss:', score[0])\n",
        "print(f'Test accuracy: {score[1]*100} %')\n",
        "print(y_test_encoded.shape)"
      ]
    },
    {
      "cell_type": "code",
      "execution_count": 115,
      "metadata": {
        "colab": {
          "base_uri": "https://localhost:8080/"
        },
        "id": "8ldHckL8NHko",
        "outputId": "867fdfc1-ec96-40f0-dda4-1c4c1feef22f"
      },
      "outputs": [
        {
          "output_type": "stream",
          "name": "stdout",
          "text": [
            "111/111 [==============================] - 0s 2ms/step\n",
            "3549\n",
            "[[2]\n",
            " [2]\n",
            " [1]\n",
            " ...\n",
            " [1]\n",
            " [1]\n",
            " [1]]\n"
          ]
        }
      ],
      "source": [
        "#x_test_pred_scaled = abs((x_test_pred-x_test_pred.min())/(x_test_pred.max()-x_test_pred.min()))\n",
        "x_test_pred_scaled = x_test_pred.astype('float32') / x_test_pred.max()\n",
        "\n",
        "\n",
        "pred_val = model.predict([x_test_pred_scaled])\n",
        "\n",
        "df = pd.DataFrame(pred_val)\n",
        "\n",
        "row_numb = df.shape[0]\n",
        "\n",
        "pred_numbs = np.argmax(pred_val, axis=1)\n",
        "pred_numbs_res = pred_numbs.reshape ((row_numb,1))\n",
        "\n",
        "\n",
        "print(row_numb)\n",
        "\n",
        "pred_numbs_res = pred_numbs_res + 1\n",
        "print(pred_numbs_res)\n",
        "\n",
        "df = pd.DataFrame(pred_numbs_res)\n",
        "df.columns = [\"target\"]\n",
        "df.to_csv('filename.csv') \n",
        "#files.download('filename.csv')\n",
        "\n"
      ]
    },
    {
      "cell_type": "code",
      "source": [
        "from google.colab import files\n",
        "\n",
        "\n",
        "files.download('filename.csv')"
      ],
      "metadata": {
        "colab": {
          "base_uri": "https://localhost:8080/",
          "height": 17
        },
        "id": "o0cQXzahfUZb",
        "outputId": "df68ceee-6d6f-4d0b-c465-7d313685c882"
      },
      "execution_count": 116,
      "outputs": [
        {
          "output_type": "display_data",
          "data": {
            "text/plain": [
              "<IPython.core.display.Javascript object>"
            ],
            "application/javascript": [
              "\n",
              "    async function download(id, filename, size) {\n",
              "      if (!google.colab.kernel.accessAllowed) {\n",
              "        return;\n",
              "      }\n",
              "      const div = document.createElement('div');\n",
              "      const label = document.createElement('label');\n",
              "      label.textContent = `Downloading \"${filename}\": `;\n",
              "      div.appendChild(label);\n",
              "      const progress = document.createElement('progress');\n",
              "      progress.max = size;\n",
              "      div.appendChild(progress);\n",
              "      document.body.appendChild(div);\n",
              "\n",
              "      const buffers = [];\n",
              "      let downloaded = 0;\n",
              "\n",
              "      const channel = await google.colab.kernel.comms.open(id);\n",
              "      // Send a message to notify the kernel that we're ready.\n",
              "      channel.send({})\n",
              "\n",
              "      for await (const message of channel.messages) {\n",
              "        // Send a message to notify the kernel that we're ready.\n",
              "        channel.send({})\n",
              "        if (message.buffers) {\n",
              "          for (const buffer of message.buffers) {\n",
              "            buffers.push(buffer);\n",
              "            downloaded += buffer.byteLength;\n",
              "            progress.value = downloaded;\n",
              "          }\n",
              "        }\n",
              "      }\n",
              "      const blob = new Blob(buffers, {type: 'application/binary'});\n",
              "      const a = document.createElement('a');\n",
              "      a.href = window.URL.createObjectURL(blob);\n",
              "      a.download = filename;\n",
              "      div.appendChild(a);\n",
              "      a.click();\n",
              "      div.remove();\n",
              "    }\n",
              "  "
            ]
          },
          "metadata": {}
        },
        {
          "output_type": "display_data",
          "data": {
            "text/plain": [
              "<IPython.core.display.Javascript object>"
            ],
            "application/javascript": [
              "download(\"download_0b1244ac-52be-47a1-8f6e-51a3649e8d35\", \"filename.csv\", 23741)"
            ]
          },
          "metadata": {}
        }
      ]
    },
    {
      "cell_type": "code",
      "execution_count": 117,
      "metadata": {
        "colab": {
          "base_uri": "https://localhost:8080/",
          "height": 430
        },
        "id": "6gGNdzGWmB6X",
        "outputId": "0184273e-0dc1-4e2c-a685-1177ef578a8e"
      },
      "outputs": [
        {
          "output_type": "display_data",
          "data": {
            "text/plain": [
              "<Figure size 640x480 with 1 Axes>"
            ],
            "image/png": "[encoded data removed]"
          },
          "metadata": {}
        }
      ],
      "source": [
        "plt.figure()\n",
        "plt.hist(pred_numbs_res, bins=3)\n",
        "plt.xlim([1,3])\n",
        "plt.show()"
      ]
    },
    {
      "cell_type": "code",
      "execution_count": 118,
      "metadata": {
        "colab": {
          "base_uri": "https://localhost:8080/",
          "height": 881
        },
        "id": "5shn5iKUcRrd",
        "outputId": "1417662f-316d-456f-e1c0-bf4812596c7f"
      },
      "outputs": [
        {
          "output_type": "display_data",
          "data": {
            "text/plain": [
              "<Figure size 640x480 with 1 Axes>"
            ],
            "image/png": "[encoded data removed]"
          },
          "metadata": {}
        },
        {
          "output_type": "display_data",
          "data": {
            "text/plain": [
              "<Figure size 640x480 with 1 Axes>"
            ],
            "image/png": "[encoded data removed]"
          },
          "metadata": {}
        }
      ],
      "source": [
        "plt.figure()\n",
        "plt.plot(history.history['loss'], label=\"loss\")\n",
        "plt.plot(history.history['val_loss'], label=\"val_loss\")\n",
        "plt.legend(loc=\"upper right\")\n",
        "plt.xlabel('n epochs')\n",
        "plt.ylabel('val_loss, loss')\n",
        "plt.show()\n",
        "\n",
        "plt.figure()\n",
        "plt.plot(history.history['accuracy'], label=\"accuracy\")\n",
        "plt.plot(history.history['val_accuracy'], label=\"val_accuracy\")\n",
        "plt.legend(loc=\"lower right\")\n",
        "plt.xlabel('n epochs')\n",
        "plt.ylabel('val_accuracy, accuracy')\n",
        "plt.show()"
      ]
    }
  ],
  "metadata": {
    "accelerator": "GPU",
    "colab": {
      "provenance": [],
      "include_colab_link": true
    },
    "gpuClass": "standard",
    "kernelspec": {
      "display_name": "Python 3 (ipykernel)",
      "language": "python",
      "name": "python3"
    },
    "language_info": {
      "codemirror_mode": {
        "name": "ipython",
        "version": 3
      },
      "file_extension": ".py",
      "mimetype": "text/x-python",
      "name": "python",
      "nbconvert_exporter": "python",
      "pygments_lexer": "ipython3",
      "version": "3.8.10"
    }
  },
  "nbformat": 4,
  "nbformat_minor": 0
}
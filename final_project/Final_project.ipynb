{
  "cells": [
    {
      "cell_type": "markdown",
      "metadata": {
        "id": "view-in-github",
        "colab_type": "text"
      },
      "source": [
        "<a href=\"https://colab.research.google.com/github/TomasKricka/MPA-MLF/blob/main/final_project/Final_project.ipynb\" target=\"_parent\"><img src=\"https://colab.research.google.com/assets/colab-badge.svg\" alt=\"Open In Colab\"/></a>"
      ]
    },
    {
      "cell_type": "markdown",
      "metadata": {
        "id": "uNwrKffjYPnN"
      },
      "source": [
        "# Final project\n",
        "## MPA-MLF\n",
        "**Tomas Kricka**\n"
      ]
    },
    {
      "cell_type": "code",
      "execution_count": 1,
      "metadata": {
        "id": "bLmTOwOhYhPR"
      },
      "outputs": [],
      "source": [
        "import numpy as np\n",
        "import matplotlib.pyplot as plt\n",
        "import matplotlib\n",
        "import pandas as pd\n",
        "from sklearn.model_selection import train_test_split\n",
        "from keras.models import Sequential\n",
        "from keras.layers import Dense, Flatten, Dropout\n",
        "from keras.optimizers import SGD, RMSprop, Adam, Adadelta, Adagrad, Adamax, Nadam, Ftrl\n",
        "from keras.datasets import cifar10\n",
        "from keras.utils import to_categorical, plot_model, model_to_dot\n",
        "from sklearn.neighbors import KNeighborsClassifier\n",
        "from sklearn.model_selection import train_test_split\n",
        "from keras.backend import clear_session"
      ]
    },
    {
      "cell_type": "code",
      "execution_count": 2,
      "metadata": {
        "colab": {
          "base_uri": "https://localhost:8080/"
        },
        "id": "ikppMwb8npB9",
        "outputId": "f2650127-066e-4948-81e5-020da95f1454"
      },
      "outputs": [
        {
          "output_type": "stream",
          "name": "stdout",
          "text": [
            "Mounted at /content/drive\n"
          ]
        }
      ],
      "source": [
        "from google.colab import drive\n",
        "drive.mount('/content/drive')"
      ]
    },
    {
      "cell_type": "code",
      "execution_count": 27,
      "metadata": {
        "id": "33exPVLzIlc9"
      },
      "outputs": [],
      "source": [
        "x_train = np.load(\"/content/drive/My Drive/MLF/final project/x_train_all_4.npy\")\n",
        "x_test =  np.load(\"/content/drive/My Drive/MLF/final project/x_test_all_4.npy\")\n",
        "y_train = pd.read_csv(\"/content/drive/My Drive/MLF/Final_dataset/Dataset/y_train.csv\")"
      ]
    },
    {
      "cell_type": "code",
      "execution_count": 13,
      "metadata": {
        "colab": {
          "base_uri": "https://localhost:8080/"
        },
        "id": "UcS-JBZiJd-4",
        "outputId": "801c15e8-0214-45b2-cc34-96688236491c"
      },
      "outputs": [
        {
          "output_type": "stream",
          "name": "stdout",
          "text": [
            "(3549, 44, 52)\n",
            "(8279, 44, 52)\n",
            "(8279, 2)\n",
            "43007.0\n",
            "43967.0\n",
            "id        8278\n",
            "target       3\n",
            "dtype: int64\n"
          ]
        }
      ],
      "source": [
        "print(x_test.shape)\n",
        "print(x_train.shape)\n",
        "print(y_train.shape)\n",
        "\n",
        "print(x_train.max())\n",
        "print(x_test.max())\n",
        "print(y_train.max())"
      ]
    },
    {
      "cell_type": "code",
      "execution_count": 28,
      "metadata": {
        "id": "SeuWNu8jkeQh"
      },
      "outputs": [],
      "source": [
        "x_test_pred = x_test\n",
        "\n",
        "clasess = 3\n",
        "\n",
        "x_train, x_test, y_train, y_test = train_test_split(x_train,y_train, test_size=0.2)\n",
        "y_train = y_train.drop(\"id\", axis = 1)\n",
        "y_test = y_test.drop(\"id\", axis = 1)"
      ]
    },
    {
      "cell_type": "code",
      "execution_count": 29,
      "metadata": {
        "id": "x6YRS73nMsVT"
      },
      "outputs": [],
      "source": [
        "#x_train_scaled = ((x_train-x_train.min())/(x_train.max()-x_train.min()))\n",
        "x_train_scaled = x_train.astype('float32') / x_train.max()\n",
        "y_train = y_train - 1\n",
        "y_train_encoded = to_categorical(y_train, num_classes=clasess)"
      ]
    },
    {
      "cell_type": "code",
      "source": [
        "print(y_train_encoded.shape)\n",
        "print(y_train_encoded)"
      ],
      "metadata": {
        "colab": {
          "base_uri": "https://localhost:8080/"
        },
        "id": "QwACD9AXLpLB",
        "outputId": "b573b221-4ea2-4115-b8c9-0b1f3ed3ac6a"
      },
      "execution_count": null,
      "outputs": [
        {
          "output_type": "stream",
          "name": "stdout",
          "text": [
            "(6623, 3)\n",
            "[[1. 0. 0.]\n",
            " [0. 0. 1.]\n",
            " [0. 1. 0.]\n",
            " ...\n",
            " [0. 0. 1.]\n",
            " [0. 1. 0.]\n",
            " [0. 0. 1.]]\n"
          ]
        }
      ]
    },
    {
      "cell_type": "code",
      "execution_count": 30,
      "metadata": {
        "colab": {
          "base_uri": "https://localhost:8080/"
        },
        "id": "ORPlISgoM2qv",
        "outputId": "17df17f1-d39d-47dd-da26-5406df607c52"
      },
      "outputs": [
        {
          "output_type": "stream",
          "name": "stdout",
          "text": [
            "Model: \"sequential_3\"\n",
            "_________________________________________________________________\n",
            " Layer (type)                Output Shape              Param #   \n",
            "=================================================================\n",
            " flatten_3 (Flatten)         (None, 2288)              0         \n",
            "                                                                 \n",
            " dense_11 (Dense)            (None, 1028)              2353092   \n",
            "                                                                 \n",
            " dense_12 (Dense)            (None, 512)               526848    \n",
            "                                                                 \n",
            " dense_13 (Dense)            (None, 3)                 1539      \n",
            "                                                                 \n",
            "=================================================================\n",
            "Total params: 2,881,479\n",
            "Trainable params: 2,881,479\n",
            "Non-trainable params: 0\n",
            "_________________________________________________________________\n"
          ]
        }
      ],
      "source": [
        "model = Sequential()\n",
        "model.add(Flatten(input_shape=(44, 52)))      \n",
        "model.add(Dense(1028, activation='relu'))\n",
        "model.add(Dense(512, activation='relu'))\n",
        "model.add(Dense(clasess, activation='softmax'))\n",
        "\n",
        "model.summary()"
      ]
    },
    {
      "cell_type": "code",
      "execution_count": 31,
      "metadata": {
        "id": "3cq72K7XebHH"
      },
      "outputs": [],
      "source": [
        "optimizer = Adam(learning_rate = 0.01)\n",
        "model.compile(loss='categorical_crossentropy', optimizer=optimizer, metrics=['accuracy'])"
      ]
    },
    {
      "cell_type": "code",
      "execution_count": 32,
      "metadata": {
        "colab": {
          "base_uri": "https://localhost:8080/"
        },
        "id": "Cp85OIW-WlgW",
        "outputId": "ef016085-062a-4fcc-913c-dc569aec4da7"
      },
      "outputs": [
        {
          "output_type": "stream",
          "name": "stdout",
          "text": [
            "Epoch 1/200\n",
            "83/83 [==============================] - 2s 9ms/step - loss: 0.7184 - accuracy: 0.6629 - val_loss: 0.6150 - val_accuracy: 0.7419\n",
            "Epoch 2/200\n",
            "83/83 [==============================] - 1s 7ms/step - loss: 0.4026 - accuracy: 0.8435 - val_loss: 0.4539 - val_accuracy: 0.8294\n",
            "Epoch 3/200\n",
            "83/83 [==============================] - 1s 7ms/step - loss: 0.3024 - accuracy: 0.8792 - val_loss: 0.3165 - val_accuracy: 0.8785\n",
            "Epoch 4/200\n",
            "83/83 [==============================] - 0s 5ms/step - loss: 0.2109 - accuracy: 0.9205 - val_loss: 0.3213 - val_accuracy: 0.8830\n",
            "Epoch 5/200\n",
            "83/83 [==============================] - 0s 5ms/step - loss: 0.1899 - accuracy: 0.9283 - val_loss: 0.2068 - val_accuracy: 0.9336\n",
            "Epoch 6/200\n",
            "83/83 [==============================] - 0s 5ms/step - loss: 0.1041 - accuracy: 0.9645 - val_loss: 0.1798 - val_accuracy: 0.9366\n",
            "Epoch 7/200\n",
            "83/83 [==============================] - 0s 5ms/step - loss: 0.0909 - accuracy: 0.9666 - val_loss: 0.2742 - val_accuracy: 0.9102\n",
            "Epoch 8/200\n",
            "83/83 [==============================] - 0s 5ms/step - loss: 0.0823 - accuracy: 0.9702 - val_loss: 0.3072 - val_accuracy: 0.9026\n",
            "Epoch 9/200\n",
            "83/83 [==============================] - 0s 4ms/step - loss: 0.0536 - accuracy: 0.9802 - val_loss: 0.2491 - val_accuracy: 0.9343\n",
            "Epoch 10/200\n",
            "83/83 [==============================] - 0s 5ms/step - loss: 0.0290 - accuracy: 0.9904 - val_loss: 0.3208 - val_accuracy: 0.9245\n",
            "Epoch 11/200\n",
            "83/83 [==============================] - 0s 4ms/step - loss: 0.0398 - accuracy: 0.9883 - val_loss: 0.3964 - val_accuracy: 0.9042\n",
            "Epoch 12/200\n",
            "83/83 [==============================] - 0s 5ms/step - loss: 0.0593 - accuracy: 0.9804 - val_loss: 0.1937 - val_accuracy: 0.9487\n",
            "Epoch 13/200\n",
            "83/83 [==============================] - 0s 5ms/step - loss: 0.0443 - accuracy: 0.9868 - val_loss: 0.2583 - val_accuracy: 0.9374\n",
            "Epoch 14/200\n",
            "83/83 [==============================] - 0s 4ms/step - loss: 0.0468 - accuracy: 0.9836 - val_loss: 0.2089 - val_accuracy: 0.9442\n",
            "Epoch 15/200\n",
            "83/83 [==============================] - 0s 4ms/step - loss: 0.0152 - accuracy: 0.9964 - val_loss: 0.2254 - val_accuracy: 0.9404\n",
            "Epoch 16/200\n",
            "83/83 [==============================] - 0s 4ms/step - loss: 0.0026 - accuracy: 1.0000 - val_loss: 0.2182 - val_accuracy: 0.9487\n",
            "Epoch 17/200\n",
            "83/83 [==============================] - 0s 5ms/step - loss: 9.9190e-04 - accuracy: 1.0000 - val_loss: 0.1939 - val_accuracy: 0.9540\n",
            "Epoch 18/200\n",
            "83/83 [==============================] - 0s 4ms/step - loss: 6.6142e-04 - accuracy: 1.0000 - val_loss: 0.1889 - val_accuracy: 0.9562\n",
            "Epoch 19/200\n",
            "83/83 [==============================] - 0s 5ms/step - loss: 5.5877e-04 - accuracy: 1.0000 - val_loss: 0.2002 - val_accuracy: 0.9555\n",
            "Epoch 20/200\n",
            "83/83 [==============================] - 0s 4ms/step - loss: 4.2034e-04 - accuracy: 1.0000 - val_loss: 0.1993 - val_accuracy: 0.9555\n",
            "Epoch 21/200\n",
            "83/83 [==============================] - 0s 4ms/step - loss: 3.7693e-04 - accuracy: 1.0000 - val_loss: 0.2030 - val_accuracy: 0.9562\n",
            "Epoch 22/200\n",
            "83/83 [==============================] - 0s 4ms/step - loss: 3.1175e-04 - accuracy: 1.0000 - val_loss: 0.2067 - val_accuracy: 0.9555\n",
            "Epoch 23/200\n",
            "83/83 [==============================] - 0s 5ms/step - loss: 2.6016e-04 - accuracy: 1.0000 - val_loss: 0.2159 - val_accuracy: 0.9547\n",
            "Epoch 24/200\n",
            "83/83 [==============================] - 0s 5ms/step - loss: 2.2204e-04 - accuracy: 1.0000 - val_loss: 0.2128 - val_accuracy: 0.9562\n",
            "Epoch 25/200\n",
            "83/83 [==============================] - 1s 9ms/step - loss: 1.9286e-04 - accuracy: 1.0000 - val_loss: 0.2164 - val_accuracy: 0.9555\n",
            "Epoch 26/200\n",
            "83/83 [==============================] - 0s 4ms/step - loss: 1.7323e-04 - accuracy: 1.0000 - val_loss: 0.2193 - val_accuracy: 0.9555\n",
            "Epoch 27/200\n",
            "83/83 [==============================] - 1s 8ms/step - loss: 1.5721e-04 - accuracy: 1.0000 - val_loss: 0.2228 - val_accuracy: 0.9540\n",
            "Epoch 28/200\n",
            "83/83 [==============================] - 0s 4ms/step - loss: 1.4131e-04 - accuracy: 1.0000 - val_loss: 0.2253 - val_accuracy: 0.9555\n",
            "Epoch 29/200\n",
            "83/83 [==============================] - 1s 14ms/step - loss: 1.2824e-04 - accuracy: 1.0000 - val_loss: 0.2253 - val_accuracy: 0.9555\n",
            "Epoch 30/200\n",
            "83/83 [==============================] - 0s 5ms/step - loss: 1.1527e-04 - accuracy: 1.0000 - val_loss: 0.2182 - val_accuracy: 0.9585\n",
            "Epoch 31/200\n",
            "83/83 [==============================] - 1s 7ms/step - loss: 1.0491e-04 - accuracy: 1.0000 - val_loss: 0.2279 - val_accuracy: 0.9555\n",
            "Epoch 32/200\n",
            "83/83 [==============================] - 1s 7ms/step - loss: 9.6076e-05 - accuracy: 1.0000 - val_loss: 0.2271 - val_accuracy: 0.9547\n",
            "Epoch 33/200\n",
            "83/83 [==============================] - 0s 5ms/step - loss: 8.7906e-05 - accuracy: 1.0000 - val_loss: 0.2310 - val_accuracy: 0.9547\n",
            "Epoch 34/200\n",
            "83/83 [==============================] - 1s 7ms/step - loss: 8.1529e-05 - accuracy: 1.0000 - val_loss: 0.2322 - val_accuracy: 0.9555\n",
            "Epoch 35/200\n",
            "83/83 [==============================] - 0s 5ms/step - loss: 7.4502e-05 - accuracy: 1.0000 - val_loss: 0.2343 - val_accuracy: 0.9547\n",
            "Epoch 36/200\n",
            "83/83 [==============================] - 0s 4ms/step - loss: 6.9807e-05 - accuracy: 1.0000 - val_loss: 0.2329 - val_accuracy: 0.9555\n",
            "Epoch 37/200\n",
            "83/83 [==============================] - 0s 5ms/step - loss: 6.4103e-05 - accuracy: 1.0000 - val_loss: 0.2358 - val_accuracy: 0.9540\n",
            "Epoch 38/200\n",
            "83/83 [==============================] - 0s 5ms/step - loss: 5.9391e-05 - accuracy: 1.0000 - val_loss: 0.2376 - val_accuracy: 0.9540\n",
            "Epoch 39/200\n",
            "83/83 [==============================] - 0s 4ms/step - loss: 5.5166e-05 - accuracy: 1.0000 - val_loss: 0.2369 - val_accuracy: 0.9562\n",
            "Epoch 40/200\n",
            "83/83 [==============================] - 0s 5ms/step - loss: 5.2053e-05 - accuracy: 1.0000 - val_loss: 0.2385 - val_accuracy: 0.9562\n",
            "Epoch 41/200\n",
            "83/83 [==============================] - 0s 5ms/step - loss: 4.7657e-05 - accuracy: 1.0000 - val_loss: 0.2398 - val_accuracy: 0.9562\n",
            "Epoch 42/200\n",
            "83/83 [==============================] - 0s 5ms/step - loss: 4.4818e-05 - accuracy: 1.0000 - val_loss: 0.2464 - val_accuracy: 0.9562\n",
            "Epoch 43/200\n",
            "83/83 [==============================] - 0s 4ms/step - loss: 4.1276e-05 - accuracy: 1.0000 - val_loss: 0.2465 - val_accuracy: 0.9547\n",
            "Epoch 44/200\n",
            "83/83 [==============================] - 0s 5ms/step - loss: 3.9310e-05 - accuracy: 1.0000 - val_loss: 0.2452 - val_accuracy: 0.9562\n",
            "Epoch 45/200\n",
            "83/83 [==============================] - 0s 4ms/step - loss: 3.6083e-05 - accuracy: 1.0000 - val_loss: 0.2476 - val_accuracy: 0.9562\n",
            "Epoch 46/200\n",
            "83/83 [==============================] - 0s 5ms/step - loss: 3.4158e-05 - accuracy: 1.0000 - val_loss: 0.2468 - val_accuracy: 0.9555\n",
            "Epoch 47/200\n",
            "83/83 [==============================] - 0s 5ms/step - loss: 3.1828e-05 - accuracy: 1.0000 - val_loss: 0.2516 - val_accuracy: 0.9562\n",
            "Epoch 48/200\n",
            "83/83 [==============================] - 0s 5ms/step - loss: 2.9926e-05 - accuracy: 1.0000 - val_loss: 0.2483 - val_accuracy: 0.9585\n",
            "Epoch 49/200\n",
            "83/83 [==============================] - 0s 4ms/step - loss: 2.8029e-05 - accuracy: 1.0000 - val_loss: 0.2546 - val_accuracy: 0.9547\n",
            "Epoch 50/200\n",
            "83/83 [==============================] - 0s 4ms/step - loss: 2.6661e-05 - accuracy: 1.0000 - val_loss: 0.2527 - val_accuracy: 0.9555\n",
            "Epoch 51/200\n",
            "83/83 [==============================] - 0s 5ms/step - loss: 2.5031e-05 - accuracy: 1.0000 - val_loss: 0.2527 - val_accuracy: 0.9570\n",
            "Epoch 52/200\n",
            "83/83 [==============================] - 0s 4ms/step - loss: 2.3363e-05 - accuracy: 1.0000 - val_loss: 0.2556 - val_accuracy: 0.9555\n",
            "Epoch 53/200\n",
            "83/83 [==============================] - 0s 5ms/step - loss: 2.1833e-05 - accuracy: 1.0000 - val_loss: 0.2567 - val_accuracy: 0.9562\n",
            "Epoch 54/200\n",
            "83/83 [==============================] - 0s 5ms/step - loss: 2.0675e-05 - accuracy: 1.0000 - val_loss: 0.2587 - val_accuracy: 0.9555\n",
            "Epoch 55/200\n",
            "83/83 [==============================] - 0s 5ms/step - loss: 1.9585e-05 - accuracy: 1.0000 - val_loss: 0.2560 - val_accuracy: 0.9570\n",
            "Epoch 56/200\n",
            "83/83 [==============================] - 0s 5ms/step - loss: 1.8378e-05 - accuracy: 1.0000 - val_loss: 0.2594 - val_accuracy: 0.9562\n",
            "Epoch 57/200\n",
            "83/83 [==============================] - 0s 5ms/step - loss: 1.7271e-05 - accuracy: 1.0000 - val_loss: 0.2582 - val_accuracy: 0.9577\n",
            "Epoch 58/200\n",
            "83/83 [==============================] - 0s 4ms/step - loss: 1.6424e-05 - accuracy: 1.0000 - val_loss: 0.2639 - val_accuracy: 0.9555\n",
            "Epoch 59/200\n",
            "83/83 [==============================] - 0s 6ms/step - loss: 1.5380e-05 - accuracy: 1.0000 - val_loss: 0.2640 - val_accuracy: 0.9555\n",
            "Epoch 60/200\n",
            "83/83 [==============================] - 0s 5ms/step - loss: 1.4708e-05 - accuracy: 1.0000 - val_loss: 0.2642 - val_accuracy: 0.9570\n",
            "Epoch 61/200\n",
            "83/83 [==============================] - 1s 7ms/step - loss: 1.3800e-05 - accuracy: 1.0000 - val_loss: 0.2674 - val_accuracy: 0.9555\n",
            "Epoch 62/200\n",
            "83/83 [==============================] - 0s 5ms/step - loss: 1.3086e-05 - accuracy: 1.0000 - val_loss: 0.2657 - val_accuracy: 0.9570\n",
            "Epoch 63/200\n",
            "83/83 [==============================] - 0s 6ms/step - loss: 1.2366e-05 - accuracy: 1.0000 - val_loss: 0.2671 - val_accuracy: 0.9570\n",
            "Epoch 64/200\n",
            "83/83 [==============================] - 0s 6ms/step - loss: 1.1691e-05 - accuracy: 1.0000 - val_loss: 0.2706 - val_accuracy: 0.9562\n",
            "Epoch 65/200\n",
            "83/83 [==============================] - 0s 5ms/step - loss: 1.1158e-05 - accuracy: 1.0000 - val_loss: 0.2705 - val_accuracy: 0.9562\n",
            "Epoch 66/200\n",
            "83/83 [==============================] - 1s 7ms/step - loss: 1.0555e-05 - accuracy: 1.0000 - val_loss: 0.2707 - val_accuracy: 0.9570\n",
            "Epoch 67/200\n",
            "83/83 [==============================] - 0s 6ms/step - loss: 9.9164e-06 - accuracy: 1.0000 - val_loss: 0.2734 - val_accuracy: 0.9555\n",
            "Epoch 68/200\n",
            "83/83 [==============================] - 1s 6ms/step - loss: 9.4315e-06 - accuracy: 1.0000 - val_loss: 0.2762 - val_accuracy: 0.9555\n",
            "Epoch 69/200\n",
            "83/83 [==============================] - 0s 5ms/step - loss: 9.0000e-06 - accuracy: 1.0000 - val_loss: 0.2751 - val_accuracy: 0.9555\n",
            "Epoch 70/200\n",
            "83/83 [==============================] - 0s 5ms/step - loss: 8.4896e-06 - accuracy: 1.0000 - val_loss: 0.2737 - val_accuracy: 0.9570\n",
            "Epoch 71/200\n",
            "83/83 [==============================] - 0s 4ms/step - loss: 8.1382e-06 - accuracy: 1.0000 - val_loss: 0.2771 - val_accuracy: 0.9562\n",
            "Epoch 72/200\n",
            "83/83 [==============================] - 0s 5ms/step - loss: 7.7034e-06 - accuracy: 1.0000 - val_loss: 0.2745 - val_accuracy: 0.9577\n",
            "Epoch 73/200\n",
            "83/83 [==============================] - 0s 4ms/step - loss: 7.2670e-06 - accuracy: 1.0000 - val_loss: 0.2787 - val_accuracy: 0.9570\n",
            "Epoch 74/200\n",
            "83/83 [==============================] - 0s 5ms/step - loss: 6.8558e-06 - accuracy: 1.0000 - val_loss: 0.2801 - val_accuracy: 0.9562\n",
            "Epoch 75/200\n",
            "83/83 [==============================] - 0s 5ms/step - loss: 6.5251e-06 - accuracy: 1.0000 - val_loss: 0.2815 - val_accuracy: 0.9562\n",
            "Epoch 76/200\n",
            "83/83 [==============================] - 0s 5ms/step - loss: 6.2709e-06 - accuracy: 1.0000 - val_loss: 0.2795 - val_accuracy: 0.9577\n",
            "Epoch 77/200\n",
            "83/83 [==============================] - 0s 5ms/step - loss: 5.9012e-06 - accuracy: 1.0000 - val_loss: 0.2821 - val_accuracy: 0.9570\n",
            "Epoch 78/200\n",
            "83/83 [==============================] - 0s 4ms/step - loss: 5.6611e-06 - accuracy: 1.0000 - val_loss: 0.2826 - val_accuracy: 0.9570\n",
            "Epoch 79/200\n",
            "83/83 [==============================] - 0s 5ms/step - loss: 5.3238e-06 - accuracy: 1.0000 - val_loss: 0.2829 - val_accuracy: 0.9570\n",
            "Epoch 80/200\n",
            "83/83 [==============================] - 0s 5ms/step - loss: 5.0815e-06 - accuracy: 1.0000 - val_loss: 0.2866 - val_accuracy: 0.9562\n",
            "Epoch 81/200\n",
            "83/83 [==============================] - 0s 4ms/step - loss: 4.8105e-06 - accuracy: 1.0000 - val_loss: 0.2898 - val_accuracy: 0.9562\n",
            "Epoch 82/200\n",
            "83/83 [==============================] - 0s 4ms/step - loss: 4.6291e-06 - accuracy: 1.0000 - val_loss: 0.2896 - val_accuracy: 0.9547\n",
            "Epoch 83/200\n",
            "83/83 [==============================] - 0s 5ms/step - loss: 4.3347e-06 - accuracy: 1.0000 - val_loss: 0.2892 - val_accuracy: 0.9570\n",
            "Epoch 84/200\n",
            "83/83 [==============================] - 0s 4ms/step - loss: 4.1214e-06 - accuracy: 1.0000 - val_loss: 0.2891 - val_accuracy: 0.9570\n",
            "Epoch 85/200\n",
            "83/83 [==============================] - 0s 4ms/step - loss: 3.9016e-06 - accuracy: 1.0000 - val_loss: 0.2889 - val_accuracy: 0.9570\n",
            "Epoch 86/200\n",
            "83/83 [==============================] - 0s 5ms/step - loss: 3.8042e-06 - accuracy: 1.0000 - val_loss: 0.2901 - val_accuracy: 0.9570\n",
            "Epoch 87/200\n",
            "83/83 [==============================] - 0s 4ms/step - loss: 3.5682e-06 - accuracy: 1.0000 - val_loss: 0.2926 - val_accuracy: 0.9570\n",
            "Epoch 88/200\n",
            "83/83 [==============================] - 0s 5ms/step - loss: 3.3682e-06 - accuracy: 1.0000 - val_loss: 0.2936 - val_accuracy: 0.9570\n",
            "Epoch 89/200\n",
            "83/83 [==============================] - 0s 4ms/step - loss: 3.2430e-06 - accuracy: 1.0000 - val_loss: 0.2954 - val_accuracy: 0.9570\n",
            "Epoch 90/200\n",
            "83/83 [==============================] - 0s 5ms/step - loss: 3.0410e-06 - accuracy: 1.0000 - val_loss: 0.2960 - val_accuracy: 0.9570\n",
            "Epoch 91/200\n",
            "83/83 [==============================] - 0s 5ms/step - loss: 2.8944e-06 - accuracy: 1.0000 - val_loss: 0.2972 - val_accuracy: 0.9562\n",
            "Epoch 92/200\n",
            "83/83 [==============================] - 0s 4ms/step - loss: 2.7708e-06 - accuracy: 1.0000 - val_loss: 0.2980 - val_accuracy: 0.9577\n",
            "Epoch 93/200\n",
            "83/83 [==============================] - 0s 4ms/step - loss: 2.6212e-06 - accuracy: 1.0000 - val_loss: 0.2965 - val_accuracy: 0.9570\n",
            "Epoch 94/200\n",
            "83/83 [==============================] - 0s 6ms/step - loss: 2.5192e-06 - accuracy: 1.0000 - val_loss: 0.3004 - val_accuracy: 0.9547\n",
            "Epoch 95/200\n",
            "83/83 [==============================] - 1s 7ms/step - loss: 2.4069e-06 - accuracy: 1.0000 - val_loss: 0.3023 - val_accuracy: 0.9570\n",
            "Epoch 96/200\n",
            "83/83 [==============================] - 0s 5ms/step - loss: 2.2668e-06 - accuracy: 1.0000 - val_loss: 0.2995 - val_accuracy: 0.9585\n",
            "Epoch 97/200\n",
            "83/83 [==============================] - 0s 5ms/step - loss: 2.1548e-06 - accuracy: 1.0000 - val_loss: 0.3030 - val_accuracy: 0.9577\n",
            "Epoch 98/200\n",
            "83/83 [==============================] - 0s 6ms/step - loss: 2.0671e-06 - accuracy: 1.0000 - val_loss: 0.3030 - val_accuracy: 0.9577\n",
            "Epoch 99/200\n",
            "83/83 [==============================] - 0s 5ms/step - loss: 1.9524e-06 - accuracy: 1.0000 - val_loss: 0.3038 - val_accuracy: 0.9577\n",
            "Epoch 100/200\n",
            "83/83 [==============================] - 1s 6ms/step - loss: 1.8668e-06 - accuracy: 1.0000 - val_loss: 0.3057 - val_accuracy: 0.9577\n",
            "Epoch 101/200\n",
            "83/83 [==============================] - 0s 5ms/step - loss: 1.7834e-06 - accuracy: 1.0000 - val_loss: 0.3050 - val_accuracy: 0.9577\n",
            "Epoch 102/200\n",
            "83/83 [==============================] - 1s 6ms/step - loss: 1.7099e-06 - accuracy: 1.0000 - val_loss: 0.3066 - val_accuracy: 0.9570\n",
            "Epoch 103/200\n",
            "83/83 [==============================] - 0s 5ms/step - loss: 1.6112e-06 - accuracy: 1.0000 - val_loss: 0.3099 - val_accuracy: 0.9547\n",
            "Epoch 104/200\n",
            "83/83 [==============================] - 0s 5ms/step - loss: 1.5334e-06 - accuracy: 1.0000 - val_loss: 0.3114 - val_accuracy: 0.9562\n",
            "Epoch 105/200\n",
            "83/83 [==============================] - 0s 5ms/step - loss: 1.4734e-06 - accuracy: 1.0000 - val_loss: 0.3090 - val_accuracy: 0.9570\n",
            "Epoch 106/200\n",
            "83/83 [==============================] - 0s 5ms/step - loss: 1.3958e-06 - accuracy: 1.0000 - val_loss: 0.3101 - val_accuracy: 0.9577\n",
            "Epoch 107/200\n",
            "83/83 [==============================] - 0s 5ms/step - loss: 1.3374e-06 - accuracy: 1.0000 - val_loss: 0.3140 - val_accuracy: 0.9570\n",
            "Epoch 108/200\n",
            "83/83 [==============================] - 0s 5ms/step - loss: 1.2819e-06 - accuracy: 1.0000 - val_loss: 0.3134 - val_accuracy: 0.9570\n",
            "Epoch 109/200\n",
            "83/83 [==============================] - 0s 5ms/step - loss: 1.1992e-06 - accuracy: 1.0000 - val_loss: 0.3123 - val_accuracy: 0.9585\n",
            "Epoch 110/200\n",
            "83/83 [==============================] - 0s 5ms/step - loss: 1.1570e-06 - accuracy: 1.0000 - val_loss: 0.3155 - val_accuracy: 0.9547\n",
            "Epoch 111/200\n",
            "83/83 [==============================] - 0s 5ms/step - loss: 1.0946e-06 - accuracy: 1.0000 - val_loss: 0.3161 - val_accuracy: 0.9577\n",
            "Epoch 112/200\n",
            "83/83 [==============================] - 0s 5ms/step - loss: 1.0507e-06 - accuracy: 1.0000 - val_loss: 0.3165 - val_accuracy: 0.9577\n",
            "Epoch 113/200\n",
            "83/83 [==============================] - 0s 5ms/step - loss: 1.0111e-06 - accuracy: 1.0000 - val_loss: 0.3191 - val_accuracy: 0.9577\n",
            "Epoch 114/200\n",
            "83/83 [==============================] - 0s 4ms/step - loss: 9.4273e-07 - accuracy: 1.0000 - val_loss: 0.3207 - val_accuracy: 0.9562\n",
            "Epoch 115/200\n",
            "83/83 [==============================] - 0s 4ms/step - loss: 9.1134e-07 - accuracy: 1.0000 - val_loss: 0.3184 - val_accuracy: 0.9562\n",
            "Epoch 116/200\n",
            "83/83 [==============================] - 0s 5ms/step - loss: 8.7111e-07 - accuracy: 1.0000 - val_loss: 0.3212 - val_accuracy: 0.9570\n",
            "Epoch 117/200\n",
            "83/83 [==============================] - 0s 4ms/step - loss: 8.2528e-07 - accuracy: 1.0000 - val_loss: 0.3214 - val_accuracy: 0.9562\n",
            "Epoch 118/200\n",
            "83/83 [==============================] - 0s 5ms/step - loss: 7.9144e-07 - accuracy: 1.0000 - val_loss: 0.3238 - val_accuracy: 0.9540\n",
            "Epoch 119/200\n",
            "83/83 [==============================] - 0s 5ms/step - loss: 7.5440e-07 - accuracy: 1.0000 - val_loss: 0.3220 - val_accuracy: 0.9562\n",
            "Epoch 120/200\n",
            "83/83 [==============================] - 0s 5ms/step - loss: 7.1300e-07 - accuracy: 1.0000 - val_loss: 0.3230 - val_accuracy: 0.9562\n",
            "Epoch 121/200\n",
            "83/83 [==============================] - 0s 5ms/step - loss: 6.8312e-07 - accuracy: 1.0000 - val_loss: 0.3241 - val_accuracy: 0.9577\n",
            "Epoch 122/200\n",
            "83/83 [==============================] - 0s 5ms/step - loss: 6.5589e-07 - accuracy: 1.0000 - val_loss: 0.3280 - val_accuracy: 0.9562\n",
            "Epoch 123/200\n",
            "83/83 [==============================] - 0s 5ms/step - loss: 6.2590e-07 - accuracy: 1.0000 - val_loss: 0.3279 - val_accuracy: 0.9562\n",
            "Epoch 124/200\n",
            "83/83 [==============================] - 0s 4ms/step - loss: 5.9355e-07 - accuracy: 1.0000 - val_loss: 0.3272 - val_accuracy: 0.9562\n",
            "Epoch 125/200\n",
            "83/83 [==============================] - 0s 5ms/step - loss: 5.6400e-07 - accuracy: 1.0000 - val_loss: 0.3294 - val_accuracy: 0.9562\n",
            "Epoch 126/200\n",
            "83/83 [==============================] - 0s 5ms/step - loss: 5.3601e-07 - accuracy: 1.0000 - val_loss: 0.3290 - val_accuracy: 0.9562\n",
            "Epoch 127/200\n",
            "83/83 [==============================] - 0s 5ms/step - loss: 5.0721e-07 - accuracy: 1.0000 - val_loss: 0.3353 - val_accuracy: 0.9555\n",
            "Epoch 128/200\n",
            "83/83 [==============================] - 1s 7ms/step - loss: 4.9292e-07 - accuracy: 1.0000 - val_loss: 0.3318 - val_accuracy: 0.9555\n",
            "Epoch 129/200\n",
            "83/83 [==============================] - 1s 7ms/step - loss: 4.6352e-07 - accuracy: 1.0000 - val_loss: 0.3335 - val_accuracy: 0.9555\n",
            "Epoch 130/200\n",
            "83/83 [==============================] - 0s 5ms/step - loss: 4.4889e-07 - accuracy: 1.0000 - val_loss: 0.3336 - val_accuracy: 0.9562\n",
            "Epoch 131/200\n",
            "83/83 [==============================] - 0s 6ms/step - loss: 4.2787e-07 - accuracy: 1.0000 - val_loss: 0.3358 - val_accuracy: 0.9562\n",
            "Epoch 132/200\n",
            "83/83 [==============================] - 1s 6ms/step - loss: 4.0744e-07 - accuracy: 1.0000 - val_loss: 0.3353 - val_accuracy: 0.9555\n",
            "Epoch 133/200\n",
            "83/83 [==============================] - 1s 6ms/step - loss: 3.8742e-07 - accuracy: 1.0000 - val_loss: 0.3360 - val_accuracy: 0.9555\n",
            "Epoch 134/200\n",
            "83/83 [==============================] - 0s 6ms/step - loss: 3.6865e-07 - accuracy: 1.0000 - val_loss: 0.3375 - val_accuracy: 0.9562\n",
            "Epoch 135/200\n",
            "83/83 [==============================] - 0s 5ms/step - loss: 3.5319e-07 - accuracy: 1.0000 - val_loss: 0.3388 - val_accuracy: 0.9555\n",
            "Epoch 136/200\n",
            "83/83 [==============================] - 0s 5ms/step - loss: 3.3686e-07 - accuracy: 1.0000 - val_loss: 0.3399 - val_accuracy: 0.9555\n",
            "Epoch 137/200\n",
            "83/83 [==============================] - 0s 5ms/step - loss: 3.2370e-07 - accuracy: 1.0000 - val_loss: 0.3410 - val_accuracy: 0.9555\n",
            "Epoch 138/200\n",
            "83/83 [==============================] - 0s 4ms/step - loss: 3.0387e-07 - accuracy: 1.0000 - val_loss: 0.3420 - val_accuracy: 0.9547\n",
            "Epoch 139/200\n",
            "83/83 [==============================] - 0s 5ms/step - loss: 2.8943e-07 - accuracy: 1.0000 - val_loss: 0.3427 - val_accuracy: 0.9562\n",
            "Epoch 140/200\n",
            "83/83 [==============================] - 0s 5ms/step - loss: 2.8182e-07 - accuracy: 1.0000 - val_loss: 0.3439 - val_accuracy: 0.9547\n",
            "Epoch 141/200\n",
            "83/83 [==============================] - 0s 5ms/step - loss: 2.6891e-07 - accuracy: 1.0000 - val_loss: 0.3448 - val_accuracy: 0.9555\n",
            "Epoch 142/200\n",
            "83/83 [==============================] - 0s 5ms/step - loss: 2.5561e-07 - accuracy: 1.0000 - val_loss: 0.3421 - val_accuracy: 0.9562\n",
            "Epoch 143/200\n",
            "83/83 [==============================] - 0s 5ms/step - loss: 2.4346e-07 - accuracy: 1.0000 - val_loss: 0.3456 - val_accuracy: 0.9555\n",
            "Epoch 144/200\n",
            "83/83 [==============================] - 0s 5ms/step - loss: 2.3291e-07 - accuracy: 1.0000 - val_loss: 0.3456 - val_accuracy: 0.9562\n",
            "Epoch 145/200\n",
            "83/83 [==============================] - 0s 5ms/step - loss: 2.2082e-07 - accuracy: 1.0000 - val_loss: 0.3462 - val_accuracy: 0.9562\n",
            "Epoch 146/200\n",
            "83/83 [==============================] - 0s 5ms/step - loss: 2.1191e-07 - accuracy: 1.0000 - val_loss: 0.3503 - val_accuracy: 0.9547\n",
            "Epoch 147/200\n",
            "83/83 [==============================] - 0s 5ms/step - loss: 2.0134e-07 - accuracy: 1.0000 - val_loss: 0.3482 - val_accuracy: 0.9562\n",
            "Epoch 148/200\n",
            "83/83 [==============================] - 0s 5ms/step - loss: 1.9227e-07 - accuracy: 1.0000 - val_loss: 0.3509 - val_accuracy: 0.9555\n",
            "Epoch 149/200\n",
            "83/83 [==============================] - 0s 5ms/step - loss: 1.8568e-07 - accuracy: 1.0000 - val_loss: 0.3504 - val_accuracy: 0.9555\n",
            "Epoch 150/200\n",
            "83/83 [==============================] - 0s 5ms/step - loss: 1.7553e-07 - accuracy: 1.0000 - val_loss: 0.3529 - val_accuracy: 0.9555\n",
            "Epoch 151/200\n",
            "83/83 [==============================] - 0s 5ms/step - loss: 1.6819e-07 - accuracy: 1.0000 - val_loss: 0.3521 - val_accuracy: 0.9562\n",
            "Epoch 152/200\n",
            "83/83 [==============================] - 0s 5ms/step - loss: 1.6050e-07 - accuracy: 1.0000 - val_loss: 0.3543 - val_accuracy: 0.9555\n",
            "Epoch 153/200\n",
            "83/83 [==============================] - 0s 5ms/step - loss: 1.5303e-07 - accuracy: 1.0000 - val_loss: 0.3556 - val_accuracy: 0.9562\n",
            "Epoch 154/200\n",
            "83/83 [==============================] - 0s 5ms/step - loss: 1.4781e-07 - accuracy: 1.0000 - val_loss: 0.3556 - val_accuracy: 0.9570\n",
            "Epoch 155/200\n",
            "83/83 [==============================] - 0s 5ms/step - loss: 1.3923e-07 - accuracy: 1.0000 - val_loss: 0.3573 - val_accuracy: 0.9555\n",
            "Epoch 156/200\n",
            "83/83 [==============================] - 0s 5ms/step - loss: 1.3426e-07 - accuracy: 1.0000 - val_loss: 0.3563 - val_accuracy: 0.9555\n",
            "Epoch 157/200\n",
            "83/83 [==============================] - 0s 5ms/step - loss: 1.2951e-07 - accuracy: 1.0000 - val_loss: 0.3589 - val_accuracy: 0.9555\n",
            "Epoch 158/200\n",
            "83/83 [==============================] - 0s 5ms/step - loss: 1.2150e-07 - accuracy: 1.0000 - val_loss: 0.3587 - val_accuracy: 0.9562\n",
            "Epoch 159/200\n",
            "83/83 [==============================] - 0s 5ms/step - loss: 1.1716e-07 - accuracy: 1.0000 - val_loss: 0.3608 - val_accuracy: 0.9547\n",
            "Epoch 160/200\n",
            "83/83 [==============================] - 0s 6ms/step - loss: 1.1163e-07 - accuracy: 1.0000 - val_loss: 0.3600 - val_accuracy: 0.9555\n",
            "Epoch 161/200\n",
            "83/83 [==============================] - 0s 5ms/step - loss: 1.0733e-07 - accuracy: 1.0000 - val_loss: 0.3623 - val_accuracy: 0.9570\n",
            "Epoch 162/200\n",
            "83/83 [==============================] - 0s 5ms/step - loss: 1.0404e-07 - accuracy: 1.0000 - val_loss: 0.3620 - val_accuracy: 0.9562\n",
            "Epoch 163/200\n",
            "83/83 [==============================] - 0s 5ms/step - loss: 9.7338e-08 - accuracy: 1.0000 - val_loss: 0.3635 - val_accuracy: 0.9570\n",
            "Epoch 164/200\n",
            "83/83 [==============================] - 0s 5ms/step - loss: 9.3243e-08 - accuracy: 1.0000 - val_loss: 0.3661 - val_accuracy: 0.9562\n",
            "Epoch 165/200\n",
            "83/83 [==============================] - 0s 5ms/step - loss: 8.9981e-08 - accuracy: 1.0000 - val_loss: 0.3660 - val_accuracy: 0.9555\n",
            "Epoch 166/200\n",
            "83/83 [==============================] - 0s 6ms/step - loss: 8.6471e-08 - accuracy: 1.0000 - val_loss: 0.3655 - val_accuracy: 0.9555\n",
            "Epoch 167/200\n",
            "83/83 [==============================] - 1s 6ms/step - loss: 8.1745e-08 - accuracy: 1.0000 - val_loss: 0.3684 - val_accuracy: 0.9570\n",
            "Epoch 168/200\n",
            "83/83 [==============================] - 0s 5ms/step - loss: 7.7650e-08 - accuracy: 1.0000 - val_loss: 0.3694 - val_accuracy: 0.9570\n",
            "Epoch 169/200\n",
            "83/83 [==============================] - 0s 5ms/step - loss: 7.4455e-08 - accuracy: 1.0000 - val_loss: 0.3721 - val_accuracy: 0.9562\n",
            "Epoch 170/200\n",
            "83/83 [==============================] - 0s 4ms/step - loss: 7.1463e-08 - accuracy: 1.0000 - val_loss: 0.3704 - val_accuracy: 0.9555\n",
            "Epoch 171/200\n",
            "83/83 [==============================] - 0s 5ms/step - loss: 6.8537e-08 - accuracy: 1.0000 - val_loss: 0.3711 - val_accuracy: 0.9562\n",
            "Epoch 172/200\n",
            "83/83 [==============================] - 0s 5ms/step - loss: 6.4892e-08 - accuracy: 1.0000 - val_loss: 0.3677 - val_accuracy: 0.9570\n",
            "Epoch 173/200\n",
            "83/83 [==============================] - 0s 5ms/step - loss: 6.2957e-08 - accuracy: 1.0000 - val_loss: 0.3750 - val_accuracy: 0.9562\n",
            "Epoch 174/200\n",
            "83/83 [==============================] - 0s 5ms/step - loss: 6.0482e-08 - accuracy: 1.0000 - val_loss: 0.3738 - val_accuracy: 0.9562\n",
            "Epoch 175/200\n",
            "83/83 [==============================] - 0s 5ms/step - loss: 5.7490e-08 - accuracy: 1.0000 - val_loss: 0.3776 - val_accuracy: 0.9555\n",
            "Epoch 176/200\n",
            "83/83 [==============================] - 0s 5ms/step - loss: 5.4834e-08 - accuracy: 1.0000 - val_loss: 0.3779 - val_accuracy: 0.9562\n",
            "Epoch 177/200\n",
            "83/83 [==============================] - 0s 5ms/step - loss: 5.2719e-08 - accuracy: 1.0000 - val_loss: 0.3783 - val_accuracy: 0.9570\n",
            "Epoch 178/200\n",
            "83/83 [==============================] - 0s 5ms/step - loss: 5.0447e-08 - accuracy: 1.0000 - val_loss: 0.3803 - val_accuracy: 0.9555\n",
            "Epoch 179/200\n",
            "83/83 [==============================] - 0s 5ms/step - loss: 4.8039e-08 - accuracy: 1.0000 - val_loss: 0.3764 - val_accuracy: 0.9570\n",
            "Epoch 180/200\n",
            "83/83 [==============================] - 0s 5ms/step - loss: 4.6307e-08 - accuracy: 1.0000 - val_loss: 0.3809 - val_accuracy: 0.9555\n",
            "Epoch 181/200\n",
            "83/83 [==============================] - 0s 5ms/step - loss: 4.4394e-08 - accuracy: 1.0000 - val_loss: 0.3803 - val_accuracy: 0.9570\n",
            "Epoch 182/200\n",
            "83/83 [==============================] - 0s 5ms/step - loss: 4.2887e-08 - accuracy: 1.0000 - val_loss: 0.3809 - val_accuracy: 0.9555\n",
            "Epoch 183/200\n",
            "83/83 [==============================] - 0s 5ms/step - loss: 4.0569e-08 - accuracy: 1.0000 - val_loss: 0.3819 - val_accuracy: 0.9562\n",
            "Epoch 184/200\n",
            "83/83 [==============================] - 0s 5ms/step - loss: 3.9309e-08 - accuracy: 1.0000 - val_loss: 0.3825 - val_accuracy: 0.9555\n",
            "Epoch 185/200\n",
            "83/83 [==============================] - 0s 5ms/step - loss: 3.7329e-08 - accuracy: 1.0000 - val_loss: 0.3854 - val_accuracy: 0.9570\n",
            "Epoch 186/200\n",
            "83/83 [==============================] - 0s 5ms/step - loss: 3.5731e-08 - accuracy: 1.0000 - val_loss: 0.3875 - val_accuracy: 0.9555\n",
            "Epoch 187/200\n",
            "83/83 [==============================] - 0s 5ms/step - loss: 3.4044e-08 - accuracy: 1.0000 - val_loss: 0.3882 - val_accuracy: 0.9562\n",
            "Epoch 188/200\n",
            "83/83 [==============================] - 0s 5ms/step - loss: 3.2581e-08 - accuracy: 1.0000 - val_loss: 0.3874 - val_accuracy: 0.9570\n",
            "Epoch 189/200\n",
            "83/83 [==============================] - 0s 5ms/step - loss: 3.1546e-08 - accuracy: 1.0000 - val_loss: 0.3867 - val_accuracy: 0.9562\n",
            "Epoch 190/200\n",
            "83/83 [==============================] - 0s 5ms/step - loss: 3.0241e-08 - accuracy: 1.0000 - val_loss: 0.3884 - val_accuracy: 0.9570\n",
            "Epoch 191/200\n",
            "83/83 [==============================] - 0s 5ms/step - loss: 2.8689e-08 - accuracy: 1.0000 - val_loss: 0.3926 - val_accuracy: 0.9547\n",
            "Epoch 192/200\n",
            "83/83 [==============================] - 0s 5ms/step - loss: 2.7496e-08 - accuracy: 1.0000 - val_loss: 0.3909 - val_accuracy: 0.9570\n",
            "Epoch 193/200\n",
            "83/83 [==============================] - 1s 7ms/step - loss: 2.6506e-08 - accuracy: 1.0000 - val_loss: 0.3942 - val_accuracy: 0.9555\n",
            "Epoch 194/200\n",
            "83/83 [==============================] - 0s 5ms/step - loss: 2.5448e-08 - accuracy: 1.0000 - val_loss: 0.3923 - val_accuracy: 0.9570\n",
            "Epoch 195/200\n",
            "83/83 [==============================] - 0s 5ms/step - loss: 2.4908e-08 - accuracy: 1.0000 - val_loss: 0.3939 - val_accuracy: 0.9570\n",
            "Epoch 196/200\n",
            "83/83 [==============================] - 1s 6ms/step - loss: 2.3378e-08 - accuracy: 1.0000 - val_loss: 0.3935 - val_accuracy: 0.9570\n",
            "Epoch 197/200\n",
            "83/83 [==============================] - 1s 6ms/step - loss: 2.2456e-08 - accuracy: 1.0000 - val_loss: 0.3954 - val_accuracy: 0.9570\n",
            "Epoch 198/200\n",
            "83/83 [==============================] - 1s 7ms/step - loss: 2.1331e-08 - accuracy: 1.0000 - val_loss: 0.3959 - val_accuracy: 0.9570\n",
            "Epoch 199/200\n",
            "83/83 [==============================] - 0s 5ms/step - loss: 2.0498e-08 - accuracy: 1.0000 - val_loss: 0.3976 - val_accuracy: 0.9562\n",
            "Epoch 200/200\n",
            "83/83 [==============================] - 1s 6ms/step - loss: 1.9688e-08 - accuracy: 1.0000 - val_loss: 0.3956 - val_accuracy: 0.9570\n"
          ]
        }
      ],
      "source": [
        "history = model.fit(x_train_scaled, y_train_encoded, epochs=200, batch_size=64, validation_split = 0.2)"
      ]
    },
    {
      "cell_type": "code",
      "execution_count": 33,
      "metadata": {
        "colab": {
          "base_uri": "https://localhost:8080/"
        },
        "id": "8CD606e5enxp",
        "outputId": "0a15867d-573e-4aa9-e062-eead63ed2185"
      },
      "outputs": [
        {
          "output_type": "stream",
          "name": "stdout",
          "text": [
            "Test loss: 0.4169486165046692\n",
            "Test accuracy: 95.28985619544983 %\n",
            "(1656, 3)\n"
          ]
        }
      ],
      "source": [
        "#x_test_scaled = abs((x_test-x_test.min())/(x_test.max()-x_test.min()))\n",
        "x_test_scaled = x_test.astype('float32') / x_test.max()\n",
        "y_test = y_test - 1\n",
        "y_test_encoded = to_categorical(y_test, num_classes=clasess)\n",
        "\n",
        "score = model.evaluate(x_test_scaled, y_test_encoded, verbose=0)\n",
        "print('Test loss:', score[0])\n",
        "print(f'Test accuracy: {score[1]*100} %')\n",
        "print(y_test_encoded.shape)"
      ]
    },
    {
      "cell_type": "code",
      "execution_count": 34,
      "metadata": {
        "colab": {
          "base_uri": "https://localhost:8080/"
        },
        "id": "8ldHckL8NHko",
        "outputId": "690fa75f-b7dd-4f32-99c7-443a6cfd0604"
      },
      "outputs": [
        {
          "output_type": "stream",
          "name": "stdout",
          "text": [
            "111/111 [==============================] - 0s 2ms/step\n",
            "3549\n",
            "[[2]\n",
            " [2]\n",
            " [1]\n",
            " ...\n",
            " [1]\n",
            " [1]\n",
            " [1]]\n"
          ]
        }
      ],
      "source": [
        "#x_test_pred_scaled = abs((x_test_pred-x_test_pred.min())/(x_test_pred.max()-x_test_pred.min()))\n",
        "x_test_pred_scaled = x_test_pred.astype('float32') / x_test_pred.max()\n",
        "\n",
        "\n",
        "pred_val = model.predict([x_test_pred_scaled])\n",
        "\n",
        "df = pd.DataFrame(pred_val)\n",
        "\n",
        "row_numb = df.shape[0]\n",
        "\n",
        "pred_numbs = np.argmax(pred_val, axis=1)\n",
        "pred_numbs_res = pred_numbs.reshape ((row_numb,1))\n",
        "\n",
        "\n",
        "print(row_numb)\n",
        "\n",
        "pred_numbs_res = pred_numbs_res + 1\n",
        "print(pred_numbs_res)\n",
        "\n",
        "df = pd.DataFrame(pred_numbs_res)\n",
        "df.columns = [\"target\"]\n",
        "df.to_csv('filename.csv') \n",
        "#files.download('filename.csv')\n",
        "\n"
      ]
    },
    {
      "cell_type": "code",
      "source": [
        "from google.colab import files\n",
        "\n",
        "\n",
        "files.download('filename.csv')"
      ],
      "metadata": {
        "colab": {
          "base_uri": "https://localhost:8080/",
          "height": 17
        },
        "id": "o0cQXzahfUZb",
        "outputId": "87594da2-56e8-4118-90d1-2b5500257653"
      },
      "execution_count": 35,
      "outputs": [
        {
          "output_type": "display_data",
          "data": {
            "text/plain": [
              "<IPython.core.display.Javascript object>"
            ],
            "application/javascript": [
              "\n",
              "    async function download(id, filename, size) {\n",
              "      if (!google.colab.kernel.accessAllowed) {\n",
              "        return;\n",
              "      }\n",
              "      const div = document.createElement('div');\n",
              "      const label = document.createElement('label');\n",
              "      label.textContent = `Downloading \"${filename}\": `;\n",
              "      div.appendChild(label);\n",
              "      const progress = document.createElement('progress');\n",
              "      progress.max = size;\n",
              "      div.appendChild(progress);\n",
              "      document.body.appendChild(div);\n",
              "\n",
              "      const buffers = [];\n",
              "      let downloaded = 0;\n",
              "\n",
              "      const channel = await google.colab.kernel.comms.open(id);\n",
              "      // Send a message to notify the kernel that we're ready.\n",
              "      channel.send({})\n",
              "\n",
              "      for await (const message of channel.messages) {\n",
              "        // Send a message to notify the kernel that we're ready.\n",
              "        channel.send({})\n",
              "        if (message.buffers) {\n",
              "          for (const buffer of message.buffers) {\n",
              "            buffers.push(buffer);\n",
              "            downloaded += buffer.byteLength;\n",
              "            progress.value = downloaded;\n",
              "          }\n",
              "        }\n",
              "      }\n",
              "      const blob = new Blob(buffers, {type: 'application/binary'});\n",
              "      const a = document.createElement('a');\n",
              "      a.href = window.URL.createObjectURL(blob);\n",
              "      a.download = filename;\n",
              "      div.appendChild(a);\n",
              "      a.click();\n",
              "      div.remove();\n",
              "    }\n",
              "  "
            ]
          },
          "metadata": {}
        },
        {
          "output_type": "display_data",
          "data": {
            "text/plain": [
              "<IPython.core.display.Javascript object>"
            ],
            "application/javascript": [
              "download(\"download_32e10c34-e9ae-440a-8bfe-926e0e94ef7a\", \"filename.csv\", 23741)"
            ]
          },
          "metadata": {}
        }
      ]
    },
    {
      "cell_type": "code",
      "execution_count": 36,
      "metadata": {
        "colab": {
          "base_uri": "https://localhost:8080/",
          "height": 430
        },
        "id": "6gGNdzGWmB6X",
        "outputId": "0cb27cf6-5bbc-4491-ceff-7bfc41d9d791"
      },
      "outputs": [
        {
          "output_type": "display_data",
          "data": {
            "text/plain": [
              "<Figure size 640x480 with 1 Axes>"
            ],
            "image/png": "[encoded data removed]"
          },
          "metadata": {}
        }
      ],
      "source": [
        "plt.figure()\n",
        "plt.hist(pred_numbs_res, bins=3)\n",
        "plt.xlim([1,3])\n",
        "plt.show()"
      ]
    },
    {
      "cell_type": "code",
      "execution_count": 37,
      "metadata": {
        "colab": {
          "base_uri": "https://localhost:8080/",
          "height": 881
        },
        "id": "5shn5iKUcRrd",
        "outputId": "78adf675-dadc-4019-c2fc-fd619c5dab87"
      },
      "outputs": [
        {
          "output_type": "display_data",
          "data": {
            "text/plain": [
              "<Figure size 640x480 with 1 Axes>"
            ],
            "image/png": "[encoded data removed]"
          },
          "metadata": {}
        },
        {
          "output_type": "display_data",
          "data": {
            "text/plain": [
              "<Figure size 640x480 with 1 Axes>"
            ],
            "image/png": "[encoded data removed]"
          },
          "metadata": {}
        }
      ],
      "source": [
        "plt.figure()\n",
        "plt.plot(history.history['loss'], label=\"loss\")\n",
        "plt.plot(history.history['val_loss'], label=\"val_loss\")\n",
        "plt.legend(loc=\"upper right\")\n",
        "plt.xlabel('n epochs')\n",
        "plt.ylabel('val_loss, loss')\n",
        "plt.show()\n",
        "\n",
        "plt.figure()\n",
        "plt.plot(history.history['accuracy'], label=\"accuracy\")\n",
        "plt.plot(history.history['val_accuracy'], label=\"val_accuracy\")\n",
        "plt.legend(loc=\"lower right\")\n",
        "plt.xlabel('n epochs')\n",
        "plt.ylabel('val_accuracy, accuracy')\n",
        "plt.show()"
      ]
    }
  ],
  "metadata": {
    "accelerator": "GPU",
    "colab": {
      "provenance": [],
      "include_colab_link": true
    },
    "gpuClass": "standard",
    "kernelspec": {
      "display_name": "Python 3 (ipykernel)",
      "language": "python",
      "name": "python3"
    },
    "language_info": {
      "codemirror_mode": {
        "name": "ipython",
        "version": 3
      },
      "file_extension": ".py",
      "mimetype": "text/x-python",
      "name": "python",
      "nbconvert_exporter": "python",
      "pygments_lexer": "ipython3",
      "version": "3.8.10"
    }
  },
  "nbformat": 4,
  "nbformat_minor": 0
}